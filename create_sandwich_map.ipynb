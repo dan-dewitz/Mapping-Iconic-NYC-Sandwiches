{
 "cells": [
  {
   "cell_type": "markdown",
   "metadata": {},
   "source": [
    "## Build me a map, ChatGPT\n",
    "\n",
    "#### Prompt 0:\n",
    "\n",
    "Build me a sandwich map from this website:\n",
    "57 Sandwiches That Define New York City\n",
    "\n",
    "URL: https://www.nytimes.com/interactive/2024/dining/best-nyc-sandwiches.html  \n",
    "\n",
    "\n",
    "#### Prompt 1:\n",
    "\n",
    "I need you to the website located at the URL below and create me a sandwich map.\n",
    "\n",
    "This is the URL:\n",
    "https://www.nytimes.com/interactive/2024/dining/best-nyc-sandwiches.html\n",
    "\n",
    "\n",
    "#### Prompt 2:\n",
    "\n",
    "I need to parse the website at the url below and extract the following items:\n",
    "- sandwich names \n",
    "- restaurant names\n",
    "- addresses\n",
    "- description\n",
    "- images\n",
    "\n",
    "This is the URL:\n",
    "https://www.nytimes.com/interactive/2024/dining/best-nyc-sandwiches.html\n",
    "\n",
    "#### ChatGPT Response:\n",
    "\n",
    "\"​I'm unable to access the specific content of the New York Times article at the provided URL.\"\n",
    "\n"
   ]
  },
  {
   "cell_type": "markdown",
   "metadata": {},
   "source": [
    "## Write the Python code to scrape the website for me, ChatGPT\n",
    "\n",
    "#### Prompt:\n",
    "\n",
    "Write python code to parse HTML for the following items. Use beautiful soup.\n",
    "- sandwich-names: class=\"sandwich-name\" \n",
    "- restaurant-names: class=\"restaurant-name\"\n",
    "- meta-data: class=\"metadata svelte-1w102ch\"\n",
    "- description: class=\"g-text svelte-1w102ch\"\n",
    "- images: class=\"g-image svelte-z1ymna\"\n",
    "    - if the image URL contains \"big_assets\", then I want to ensure the URL also ends with a \"-2.png\""
   ]
  },
  {
   "cell_type": "markdown",
   "metadata": {},
   "source": [
    "## Extract Data from HTML\n"
   ]
  },
  {
   "cell_type": "code",
   "execution_count": 1,
   "metadata": {},
   "outputs": [],
   "source": [
    "from bs4 import BeautifulSoup\n",
    "import requests\n",
    "\n",
    "# Fetch the webpage content\n",
    "url = \"https://www.nytimes.com/interactive/2024/dining/best-nyc-sandwiches.html\"  # Replace with the actual URL\n",
    "response = requests.get(url)\n",
    "soup = BeautifulSoup(response.text, \"html.parser\")"
   ]
  },
  {
   "cell_type": "code",
   "execution_count": 2,
   "metadata": {},
   "outputs": [],
   "source": [
    "# soup"
   ]
  },
  {
   "cell_type": "code",
   "execution_count": 3,
   "metadata": {},
   "outputs": [],
   "source": [
    "# soup.find_all(class_=\"sandwich-name\")"
   ]
  },
  {
   "cell_type": "markdown",
   "metadata": {},
   "source": [
    "#### Get `restaurants`, `sandwhich_names`, `meta_data`, `descriptions`"
   ]
  },
  {
   "cell_type": "code",
   "execution_count": 4,
   "metadata": {},
   "outputs": [],
   "source": [
    "sandwich_names = []\n",
    "restaurants = []\n",
    "meta_data = []\n",
    "descriptions = []\n",
    "\n",
    "for tag in soup.find_all(class_=\"sandwich-name\"):\n",
    "    sandwich_names.append(tag.text.strip())\n",
    "\n",
    "for tag in soup.find_all(class_=\"restaurant-name\"):\n",
    "    restaurants.append(tag.text.strip())\n",
    "\n",
    "for tag in soup.find_all(class_=\"metadata svelte-1w102ch\"):\n",
    "    meta_data.append(tag.text.strip())\n",
    "\n",
    "for tag in soup.find_all(class_=\"g-text svelte-1w102ch\"):\n",
    "    descriptions.append(tag.text.strip())\n"
   ]
  },
  {
   "cell_type": "markdown",
   "metadata": {},
   "source": [
    "print length of every list"
   ]
  },
  {
   "cell_type": "code",
   "execution_count": 5,
   "metadata": {},
   "outputs": [
    {
     "name": "stdout",
     "output_type": "stream",
     "text": [
      "Length of restaurants: 57\n",
      "Length of sandwich_names: 57\n",
      "Length of meta_data: 56\n",
      "Length of descriptions: 57\n"
     ]
    }
   ],
   "source": [
    "print(\"Length of restaurants:\", len(restaurants))\n",
    "print(\"Length of sandwich_names:\", len(sandwich_names))\n",
    "print(\"Length of meta_data:\", len(meta_data))\n",
    "print(\"Length of descriptions:\", len(descriptions))"
   ]
  },
  {
   "cell_type": "markdown",
   "metadata": {},
   "source": [
    "print first and last item for every list"
   ]
  },
  {
   "cell_type": "code",
   "execution_count": 6,
   "metadata": {},
   "outputs": [
    {
     "name": "stdout",
     "output_type": "stream",
     "text": [
      "First item of restaurants: Your nearest bodega\n",
      "Last item of restaurants: Bonnie’s\n",
      "First item of sandwich_names: Bacon, egg and cheese\n",
      "Last item of sandwich_names: Char siu BK Rib\n",
      "First item ofmeta_data: 178 East Seventh Street (Avenue B), $13, candbnyc.com\n",
      "Last item ofmeta_data: 398 Manhattan Avenue (Frost Street), $28, bonniesbrooklyn.com\n",
      "First item of descriptions: In New York City, there is no single bacon, egg and cheese to rule them all. Whichever B.E.C. you’re eating in that moment is the best one. You dig into one as a means to start your day or to battle a hangover or to simply fulfill a craving for the most satisfying combination of ingredients known to man. To love the B.E.C. is to exist on a continuum of past, present and future bacon, egg and cheeses — all of them just around the corner or down the block from wherever you are right now. NIKITA RICHARDSON\n",
      "Last item of descriptions: This ingenious cross between the sticky-sweet dim sum staple char siu and a certain famous fast-food sandwich received so much glowing attention when it landed at this Cantonese American restaurant in Williamsburg that McDonald’s sent a cease-and-desist letter to the chef Calvin Eng in November. Now, the dish formerly known as the Char Siu McRib is the char siu BK Rib, but it remains the top seller, and for good reason. It takes three days to marinate and steam the ribs, which are deboned and paired with a sesame milk bun, a smear of Chinese hot mustard, sliced onion and bread-and-butter pickles. The pork melts into the bun, and the pickles and spicy mustard bring tangy, sharp relief. PRIYA KRISHNA\n"
     ]
    }
   ],
   "source": [
    "print(\"First item of restaurants:\", restaurants[0])\n",
    "print(\"Last item of restaurants:\", restaurants[-1])\n",
    "\n",
    "print(\"First item of sandwich_names:\", sandwich_names[0])\n",
    "print(\"Last item of sandwich_names:\", sandwich_names[-1])\n",
    "\n",
    "print(\"First item ofmeta_data:\",meta_data[0])\n",
    "print(\"Last item ofmeta_data:\",meta_data[-1])\n",
    "\n",
    "print(\"First item of descriptions:\", descriptions[0])\n",
    "print(\"Last item of descriptions:\", descriptions[-1])\n"
   ]
  },
  {
   "cell_type": "markdown",
   "metadata": {},
   "source": [
    "## Images need special handling"
   ]
  },
  {
   "cell_type": "markdown",
   "metadata": {},
   "source": [
    "*Prompt:*\n",
    "\n",
    "I need to find all the images with this class:\n",
    "find_all(class_=\"g-image\")\n",
    "\n",
    "- If the image URL does not contain \"big_assets\", store it in a list.\n",
    "- if the image URL contains \"big_assets\" make sure it also ends with \"-2.png\" and store it in a list\n",
    "\n",
    "I am trying to drop images that have \"big_assests\" in the URL but end with \"-1.png\""
   ]
  },
  {
   "cell_type": "code",
   "execution_count": 7,
   "metadata": {},
   "outputs": [],
   "source": [
    "# Find all the images\n",
    "images = soup.find_all(\"img\")\n"
   ]
  },
  {
   "cell_type": "markdown",
   "metadata": {},
   "source": [
    "What is going on at the beginning of the list?"
   ]
  },
  {
   "cell_type": "code",
   "execution_count": 8,
   "metadata": {},
   "outputs": [],
   "source": [
    "# images"
   ]
  },
  {
   "cell_type": "code",
   "execution_count": 9,
   "metadata": {},
   "outputs": [],
   "source": [
    "# len(images)\n"
   ]
  },
  {
   "cell_type": "code",
   "execution_count": 10,
   "metadata": {},
   "outputs": [],
   "source": [
    "# images[6:]"
   ]
  },
  {
   "cell_type": "code",
   "execution_count": 11,
   "metadata": {},
   "outputs": [],
   "source": [
    "images_short = images[6:]"
   ]
  },
  {
   "cell_type": "code",
   "execution_count": 12,
   "metadata": {},
   "outputs": [
    {
     "data": {
      "text/plain": [
       "66"
      ]
     },
     "execution_count": 12,
     "metadata": {},
     "output_type": "execute_result"
    }
   ],
   "source": [
    "len(images_short)"
   ]
  },
  {
   "cell_type": "markdown",
   "metadata": {},
   "source": [
    "We have 9 Sandwich Categories, each with an extra image\n",
    "\n",
    "- Breakfast Bangers\n",
    "- Hero Worship\n",
    "- Veg In\n",
    "- Pastrami City\n",
    "- Gotham Greats\n",
    "- ‘Let Me Get Uhh…’\n",
    "- Diner Party\n",
    "- Honorary New Yorkers\n",
    "- Extremely Online"
   ]
  },
  {
   "cell_type": "code",
   "execution_count": 13,
   "metadata": {},
   "outputs": [
    {
     "data": {
      "text/plain": [
       "66"
      ]
     },
     "execution_count": 13,
     "metadata": {},
     "output_type": "execute_result"
    }
   ],
   "source": [
    "57 + 9"
   ]
  },
  {
   "cell_type": "markdown",
   "metadata": {},
   "source": [
    "If URL contains 'big_assest' ensure it ends with '-2.png'"
   ]
  },
  {
   "cell_type": "code",
   "execution_count": 14,
   "metadata": {},
   "outputs": [],
   "source": [
    "# Lists to store valid image URLs\n",
    "valid_images = []\n",
    "\n",
    "for img in images_short:\n",
    "    img_url = img.get(\"src\")  # Get the image URL\n",
    "    if img_url:\n",
    "        if \"big_assets\" in img_url:\n",
    "            if img_url.endswith(\"-2.png\"):  # Keep only if it ends with \"-2.png\"\n",
    "                valid_images.append(img_url)\n",
    "        else:\n",
    "            valid_images.append(img_url)  # Keep all other images"
   ]
  },
  {
   "cell_type": "code",
   "execution_count": 15,
   "metadata": {},
   "outputs": [
    {
     "name": "stdout",
     "output_type": "stream",
     "text": [
      "First image: https://static01.nytimes.com/newsgraphics/2024-05-21-sandwich/_big_assets/breakfast-2.png\n",
      "Last image: https://static01.nytimes.com/newsgraphics/2024-05-21-sandwich/_images/onlyny1-@@-300.webp\n"
     ]
    }
   ],
   "source": [
    "print(\"First image:\", valid_images[0])\n",
    "print(\"Last image:\", valid_images[-1])"
   ]
  },
  {
   "cell_type": "markdown",
   "metadata": {},
   "source": [
    "#### Variables we have created so far\n",
    "\n",
    "restaurants  \n",
    "sandwich_names  \n",
    "meta_data  \n",
    "descriptions  \n",
    "valid_images  "
   ]
  },
  {
   "cell_type": "code",
   "execution_count": 16,
   "metadata": {},
   "outputs": [
    {
     "name": "stdout",
     "output_type": "stream",
     "text": [
      "Length of meta_data: 56\n",
      "Length of descriptions: 57\n",
      "Length of restaurants: 57\n",
      "Length of sandwich_names: 57\n",
      "Length of valid_images: 57\n"
     ]
    }
   ],
   "source": [
    "print(\"Length of meta_data:\", len(meta_data))\n",
    "print(\"Length of descriptions:\", len(descriptions))\n",
    "print(\"Length of restaurants:\", len(restaurants))\n",
    "print(\"Length of sandwich_names:\", len(sandwich_names))\n",
    "print(\"Length of valid_images:\", len(valid_images))"
   ]
  },
  {
   "cell_type": "code",
   "execution_count": 17,
   "metadata": {},
   "outputs": [
    {
     "name": "stdout",
     "output_type": "stream",
     "text": [
      "First element of meta_data: 178 East Seventh Street (Avenue B), $13, candbnyc.com\n",
      "First element of descriptions: In New York City, there is no single bacon, egg and cheese to rule them all. Whichever B.E.C. you’re eating in that moment is the best one. You dig into one as a means to start your day or to battle a hangover or to simply fulfill a craving for the most satisfying combination of ingredients known to man. To love the B.E.C. is to exist on a continuum of past, present and future bacon, egg and cheeses — all of them just around the corner or down the block from wherever you are right now. NIKITA RICHARDSON\n",
      "First element of restaurants: Your nearest bodega\n",
      "First element of sandwich_names: Bacon, egg and cheese\n",
      "First element of valid_images: https://static01.nytimes.com/newsgraphics/2024-05-21-sandwich/_big_assets/breakfast-2.png\n"
     ]
    }
   ],
   "source": [
    "print(\"First element of meta_data:\", meta_data[0])\n",
    "print(\"First element of descriptions:\", descriptions[0])\n",
    "print(\"First element of restaurants:\", restaurants[0])\n",
    "print(\"First element of sandwich_names:\", sandwich_names[0])\n",
    "print(\"First element of valid_images:\", valid_images[0])"
   ]
  },
  {
   "cell_type": "markdown",
   "metadata": {},
   "source": [
    "Remove bodega info :("
   ]
  },
  {
   "cell_type": "code",
   "execution_count": 18,
   "metadata": {},
   "outputs": [
    {
     "data": {
      "text/plain": [
       "'https://static01.nytimes.com/newsgraphics/2024-05-21-sandwich/_big_assets/breakfast-2.png'"
      ]
     },
     "execution_count": 18,
     "metadata": {},
     "output_type": "execute_result"
    }
   ],
   "source": [
    "descriptions.pop(0)\n",
    "restaurants.pop(0)\n",
    "sandwich_names.pop(0)\n",
    "valid_images.pop(0)"
   ]
  },
  {
   "cell_type": "code",
   "execution_count": 19,
   "metadata": {},
   "outputs": [
    {
     "name": "stdout",
     "output_type": "stream",
     "text": [
      "Length of meta_data: 56\n",
      "Length of descriptions: 56\n",
      "Length of restaurants: 56\n",
      "Length of sandwich_names: 56\n",
      "Length of valid_images: 56\n"
     ]
    }
   ],
   "source": [
    "print(\"Length of meta_data:\", len(meta_data))\n",
    "print(\"Length of descriptions:\", len(descriptions))\n",
    "print(\"Length of restaurants:\", len(restaurants))\n",
    "print(\"Length of sandwich_names:\", len(sandwich_names))\n",
    "print(\"Length of valid_images:\", len(valid_images))"
   ]
  },
  {
   "cell_type": "code",
   "execution_count": 20,
   "metadata": {},
   "outputs": [
    {
     "name": "stdout",
     "output_type": "stream",
     "text": [
      "First element of meta_data: 178 East Seventh Street (Avenue B), $13, candbnyc.com\n",
      "First element of descriptions: Many people wouldn’t guess that C & B, by the looks of it, serves some of the finest sandwiches in the city. Ali Sahin’s tiny cafe has been located for nearly a decade on the south side of Tompkins Square Park in the East Village, serving breakfast sandwiches that exemplify why New Yorkers love breakfast sandwiches: they’re simple as can be, but every component is on point. Lining up for a weekend breakfast sandwich there feels a little like being at a model casting — one wonders if the name is a play on “see and be seen” — but ordering well is a great equalizer: a fat, rich chorizo patty straight off the griddle and wobbly scrambled eggs, all piled high on an housemade roll to soak up the sausage’s spiced fat. BECKY HUGHES\n",
      "First element of restaurants: C&B\n",
      "First element of sandwich_names: Chorizo egg sandwich\n",
      "First element of valid_images: https://static01.nytimes.com/newsgraphics/2024-05-21-sandwich/_images/breakfast2-@@-300.webp\n"
     ]
    }
   ],
   "source": [
    "print(\"First element of meta_data:\", meta_data[0])\n",
    "print(\"First element of descriptions:\", descriptions[0])\n",
    "print(\"First element of restaurants:\", restaurants[0])\n",
    "print(\"First element of sandwich_names:\", sandwich_names[0])\n",
    "print(\"First element of valid_images:\", valid_images[0])"
   ]
  },
  {
   "cell_type": "code",
   "execution_count": 21,
   "metadata": {},
   "outputs": [
    {
     "name": "stdout",
     "output_type": "stream",
     "text": [
      "Last element of meta_data: 398 Manhattan Avenue (Frost Street), $28, bonniesbrooklyn.com\n",
      "Last element of descriptions: This ingenious cross between the sticky-sweet dim sum staple char siu and a certain famous fast-food sandwich received so much glowing attention when it landed at this Cantonese American restaurant in Williamsburg that McDonald’s sent a cease-and-desist letter to the chef Calvin Eng in November. Now, the dish formerly known as the Char Siu McRib is the char siu BK Rib, but it remains the top seller, and for good reason. It takes three days to marinate and steam the ribs, which are deboned and paired with a sesame milk bun, a smear of Chinese hot mustard, sliced onion and bread-and-butter pickles. The pork melts into the bun, and the pickles and spicy mustard bring tangy, sharp relief. PRIYA KRISHNA\n",
      "Last element of restaurants: Bonnie’s\n",
      "Last element of sandwich_names: Char siu BK Rib\n",
      "Last element of valid_images: https://static01.nytimes.com/newsgraphics/2024-05-21-sandwich/_images/onlyny1-@@-300.webp\n"
     ]
    }
   ],
   "source": [
    "print(\"Last element of meta_data:\", meta_data[-1])\n",
    "print(\"Last element of descriptions:\", descriptions[-1])\n",
    "print(\"Last element of restaurants:\", restaurants[-1])\n",
    "print(\"Last element of sandwich_names:\", sandwich_names[-1])\n",
    "print(\"Last element of valid_images:\", valid_images[-1])"
   ]
  },
  {
   "cell_type": "markdown",
   "metadata": {},
   "source": [
    "## Turn the lists into a dataframe"
   ]
  },
  {
   "cell_type": "code",
   "execution_count": 22,
   "metadata": {},
   "outputs": [],
   "source": [
    "import pandas as pd\n",
    "\n",
    "data = {\n",
    "    'restaurant': restaurants,\n",
    "    'sandwich_name': sandwich_names,\n",
    "    'meta_data': meta_data,\n",
    "    'description': descriptions,\n",
    "    'image_url': valid_images\n",
    "}\n",
    "\n",
    "df = pd.DataFrame(data)\n"
   ]
  },
  {
   "cell_type": "markdown",
   "metadata": {},
   "source": [
    "#### Is this tidy data?"
   ]
  },
  {
   "cell_type": "code",
   "execution_count": 23,
   "metadata": {},
   "outputs": [
    {
     "data": {
      "text/html": [
       "<div>\n",
       "<style scoped>\n",
       "    .dataframe tbody tr th:only-of-type {\n",
       "        vertical-align: middle;\n",
       "    }\n",
       "\n",
       "    .dataframe tbody tr th {\n",
       "        vertical-align: top;\n",
       "    }\n",
       "\n",
       "    .dataframe thead th {\n",
       "        text-align: right;\n",
       "    }\n",
       "</style>\n",
       "<table border=\"1\" class=\"dataframe\">\n",
       "  <thead>\n",
       "    <tr style=\"text-align: right;\">\n",
       "      <th></th>\n",
       "      <th>restaurant</th>\n",
       "      <th>sandwich_name</th>\n",
       "      <th>meta_data</th>\n",
       "      <th>description</th>\n",
       "      <th>image_url</th>\n",
       "    </tr>\n",
       "  </thead>\n",
       "  <tbody>\n",
       "    <tr>\n",
       "      <th>0</th>\n",
       "      <td>C&amp;B</td>\n",
       "      <td>Chorizo egg sandwich</td>\n",
       "      <td>178 East Seventh Street (Avenue B), $13, candb...</td>\n",
       "      <td>Many people wouldn’t guess that C &amp; B, by the ...</td>\n",
       "      <td>https://static01.nytimes.com/newsgraphics/2024...</td>\n",
       "    </tr>\n",
       "    <tr>\n",
       "      <th>1</th>\n",
       "      <td>Radio Bakery</td>\n",
       "      <td>Smoked salmon sandwich</td>\n",
       "      <td>135 India Street (Manhattan Avenue), $15, radi...</td>\n",
       "      <td>New York is no stranger to smoked salmon — we’...</td>\n",
       "      <td>https://static01.nytimes.com/newsgraphics/2024...</td>\n",
       "    </tr>\n",
       "    <tr>\n",
       "      <th>2</th>\n",
       "      <td>Edith’s</td>\n",
       "      <td>BEC&amp;L</td>\n",
       "      <td>495 Lorimer Street (Powers Street), $14, edith...</td>\n",
       "      <td>Elyssa Heller is a pandemic pop-up success sto...</td>\n",
       "      <td>https://static01.nytimes.com/newsgraphics/2024...</td>\n",
       "    </tr>\n",
       "    <tr>\n",
       "      <th>3</th>\n",
       "      <td>Daily Provisions</td>\n",
       "      <td>The Lumberjack</td>\n",
       "      <td>Multiple locations, $12, dailyprovisionsnyc.com</td>\n",
       "      <td>So many portmanteau foods can go horribly wron...</td>\n",
       "      <td>https://static01.nytimes.com/newsgraphics/2024...</td>\n",
       "    </tr>\n",
       "    <tr>\n",
       "      <th>4</th>\n",
       "      <td>Shelsky’s Brooklyn Bagels</td>\n",
       "      <td>The Newhouse</td>\n",
       "      <td>453 Fourth Avenue (10th Street), $18, shelskys...</td>\n",
       "      <td>Bialys and sable can seem like afterthoughts o...</td>\n",
       "      <td>https://static01.nytimes.com/newsgraphics/2024...</td>\n",
       "    </tr>\n",
       "  </tbody>\n",
       "</table>\n",
       "</div>"
      ],
      "text/plain": [
       "                  restaurant           sandwich_name  \\\n",
       "0                        C&B    Chorizo egg sandwich   \n",
       "1               Radio Bakery  Smoked salmon sandwich   \n",
       "2                    Edith’s                   BEC&L   \n",
       "3           Daily Provisions          The Lumberjack   \n",
       "4  Shelsky’s Brooklyn Bagels            The Newhouse   \n",
       "\n",
       "                                           meta_data  \\\n",
       "0  178 East Seventh Street (Avenue B), $13, candb...   \n",
       "1  135 India Street (Manhattan Avenue), $15, radi...   \n",
       "2  495 Lorimer Street (Powers Street), $14, edith...   \n",
       "3    Multiple locations, $12, dailyprovisionsnyc.com   \n",
       "4  453 Fourth Avenue (10th Street), $18, shelskys...   \n",
       "\n",
       "                                         description  \\\n",
       "0  Many people wouldn’t guess that C & B, by the ...   \n",
       "1  New York is no stranger to smoked salmon — we’...   \n",
       "2  Elyssa Heller is a pandemic pop-up success sto...   \n",
       "3  So many portmanteau foods can go horribly wron...   \n",
       "4  Bialys and sable can seem like afterthoughts o...   \n",
       "\n",
       "                                           image_url  \n",
       "0  https://static01.nytimes.com/newsgraphics/2024...  \n",
       "1  https://static01.nytimes.com/newsgraphics/2024...  \n",
       "2  https://static01.nytimes.com/newsgraphics/2024...  \n",
       "3  https://static01.nytimes.com/newsgraphics/2024...  \n",
       "4  https://static01.nytimes.com/newsgraphics/2024...  "
      ]
     },
     "execution_count": 23,
     "metadata": {},
     "output_type": "execute_result"
    }
   ],
   "source": [
    "df.head()"
   ]
  },
  {
   "cell_type": "code",
   "execution_count": 24,
   "metadata": {},
   "outputs": [
    {
     "data": {
      "text/plain": [
       "56"
      ]
     },
     "execution_count": 24,
     "metadata": {},
     "output_type": "execute_result"
    }
   ],
   "source": [
    "df['sandwich_name'].nunique()"
   ]
  },
  {
   "cell_type": "code",
   "execution_count": 25,
   "metadata": {},
   "outputs": [
    {
     "data": {
      "text/plain": [
       "(56, 5)"
      ]
     },
     "execution_count": 25,
     "metadata": {},
     "output_type": "execute_result"
    }
   ],
   "source": [
    "df.shape"
   ]
  },
  {
   "cell_type": "markdown",
   "metadata": {},
   "source": [
    "## From `meta_data`, I need to parse out `price` and `website`"
   ]
  },
  {
   "cell_type": "code",
   "execution_count": 26,
   "metadata": {},
   "outputs": [
    {
     "data": {
      "text/plain": [
       "'178 East Seventh Street (Avenue B), $13, candbnyc.com'"
      ]
     },
     "execution_count": 26,
     "metadata": {},
     "output_type": "execute_result"
    }
   ],
   "source": [
    "df['meta_data'][0]"
   ]
  },
  {
   "cell_type": "markdown",
   "metadata": {},
   "source": [
    "ChatGPT: I want to draw a random row"
   ]
  },
  {
   "cell_type": "code",
   "execution_count": 27,
   "metadata": {},
   "outputs": [
    {
     "data": {
      "text/plain": [
       "'552 West 235th Street (Johnson Avenue), $26, liebmansdeli.com'"
      ]
     },
     "execution_count": 27,
     "metadata": {},
     "output_type": "execute_result"
    }
   ],
   "source": [
    "import random\n",
    "random_index = random.randint(0, len(df) - 1)\n",
    "\n",
    "df['meta_data'][random_index]\n"
   ]
  },
  {
   "cell_type": "code",
   "execution_count": 28,
   "metadata": {},
   "outputs": [
    {
     "data": {
      "text/plain": [
       "'Kennedy International Airport, Terminal 4, $5, shakeshack.com/location/jfk-airport-nyc'"
      ]
     },
     "execution_count": 28,
     "metadata": {},
     "output_type": "execute_result"
    }
   ],
   "source": [
    "df['meta_data'][6]"
   ]
  },
  {
   "cell_type": "markdown",
   "metadata": {},
   "source": [
    "#### Split the string by commas and get the last element"
   ]
  },
  {
   "cell_type": "code",
   "execution_count": 29,
   "metadata": {},
   "outputs": [
    {
     "data": {
      "text/plain": [
       "['178 East Seventh Street (Avenue B)', ' $13', ' candbnyc.com']"
      ]
     },
     "execution_count": 29,
     "metadata": {},
     "output_type": "execute_result"
    }
   ],
   "source": [
    "df['meta_data'].str.split(',')[0]"
   ]
  },
  {
   "cell_type": "code",
   "execution_count": 30,
   "metadata": {},
   "outputs": [
    {
     "data": {
      "text/plain": [
       "['Kennedy International Airport',\n",
       " ' Terminal 4',\n",
       " ' $5',\n",
       " ' shakeshack.com/location/jfk-airport-nyc']"
      ]
     },
     "execution_count": 30,
     "metadata": {},
     "output_type": "execute_result"
    }
   ],
   "source": [
    "df['meta_data'].str.split(',')[6]"
   ]
  },
  {
   "cell_type": "code",
   "execution_count": 31,
   "metadata": {},
   "outputs": [],
   "source": [
    "df['website'] = df['meta_data'].str.split(',').str[-1].str.strip()"
   ]
  },
  {
   "cell_type": "code",
   "execution_count": 32,
   "metadata": {},
   "outputs": [
    {
     "data": {
      "text/plain": [
       "'candbnyc.com'"
      ]
     },
     "execution_count": 32,
     "metadata": {},
     "output_type": "execute_result"
    }
   ],
   "source": [
    "df['website'][0]"
   ]
  },
  {
   "cell_type": "code",
   "execution_count": 33,
   "metadata": {},
   "outputs": [
    {
     "data": {
      "text/plain": [
       "'dailyprovisionsnyc.com'"
      ]
     },
     "execution_count": 33,
     "metadata": {},
     "output_type": "execute_result"
    }
   ],
   "source": [
    "df['website'][3]"
   ]
  },
  {
   "cell_type": "code",
   "execution_count": 34,
   "metadata": {},
   "outputs": [
    {
     "data": {
      "text/plain": [
       "'shakeshack.com/location/jfk-airport-nyc'"
      ]
     },
     "execution_count": 34,
     "metadata": {},
     "output_type": "execute_result"
    }
   ],
   "source": [
    "df['website'][6]"
   ]
  },
  {
   "cell_type": "markdown",
   "metadata": {},
   "source": [
    "#### Split the string by commas and get the first element"
   ]
  },
  {
   "cell_type": "code",
   "execution_count": 35,
   "metadata": {},
   "outputs": [],
   "source": [
    "\n",
    "df['address'] = df['meta_data'].str.split(',').str[0]"
   ]
  },
  {
   "cell_type": "code",
   "execution_count": 36,
   "metadata": {},
   "outputs": [
    {
     "data": {
      "text/plain": [
       "'178 East Seventh Street (Avenue B)'"
      ]
     },
     "execution_count": 36,
     "metadata": {},
     "output_type": "execute_result"
    }
   ],
   "source": [
    "df['address'][0]"
   ]
  },
  {
   "cell_type": "code",
   "execution_count": 37,
   "metadata": {},
   "outputs": [
    {
     "data": {
      "text/plain": [
       "'Multiple locations'"
      ]
     },
     "execution_count": 37,
     "metadata": {},
     "output_type": "execute_result"
    }
   ],
   "source": [
    "df['address'][3]"
   ]
  },
  {
   "cell_type": "code",
   "execution_count": 38,
   "metadata": {},
   "outputs": [
    {
     "data": {
      "text/plain": [
       "'Kennedy International Airport'"
      ]
     },
     "execution_count": 38,
     "metadata": {},
     "output_type": "execute_result"
    }
   ],
   "source": [
    "df['address'][6]"
   ]
  },
  {
   "cell_type": "markdown",
   "metadata": {},
   "source": [
    "#### Split the string by commas and get the second element, remove '$'"
   ]
  },
  {
   "cell_type": "code",
   "execution_count": 39,
   "metadata": {},
   "outputs": [
    {
     "data": {
      "text/plain": [
       "'178 East Seventh Street (Avenue B), $13, candbnyc.com'"
      ]
     },
     "execution_count": 39,
     "metadata": {},
     "output_type": "execute_result"
    }
   ],
   "source": [
    "df['meta_data'][0]"
   ]
  },
  {
   "cell_type": "code",
   "execution_count": 40,
   "metadata": {},
   "outputs": [],
   "source": [
    "df['price'] = df['meta_data'].str.split(',').str[1]"
   ]
  },
  {
   "cell_type": "code",
   "execution_count": 41,
   "metadata": {},
   "outputs": [
    {
     "data": {
      "text/plain": [
       "' $13'"
      ]
     },
     "execution_count": 41,
     "metadata": {},
     "output_type": "execute_result"
    }
   ],
   "source": [
    "df['price'][0]"
   ]
  },
  {
   "cell_type": "code",
   "execution_count": 42,
   "metadata": {},
   "outputs": [
    {
     "data": {
      "text/plain": [
       "' Terminal 4'"
      ]
     },
     "execution_count": 42,
     "metadata": {},
     "output_type": "execute_result"
    }
   ],
   "source": [
    "df['price'][6]"
   ]
  },
  {
   "cell_type": "markdown",
   "metadata": {},
   "source": [
    "*Prompt*\n",
    "\n",
    "- in the column df['meta_data'], the price starts with a \"$\"\n",
    "- grab the integer following the \"$\"\n",
    "- and store it in a new column called 'price'"
   ]
  },
  {
   "cell_type": "code",
   "execution_count": 43,
   "metadata": {},
   "outputs": [],
   "source": [
    "import re\n",
    "\n",
    "# The pattern r'\\$(\\d+)' looks for a dollar sign ($) followed by one or more digits (\\d+)\n",
    "# .group(1): Extracts the first capturing group from the match, which corresponds to the digits following the dollar sign.\n",
    "# int(...): Converts the extracted string of digits into an integer.\n",
    "\n",
    "df['price'] = df['meta_data'].apply(lambda x: int(re.search(r'\\$(\\d+)', x).group(1)))\n"
   ]
  },
  {
   "cell_type": "code",
   "execution_count": 44,
   "metadata": {},
   "outputs": [
    {
     "data": {
      "text/plain": [
       "np.int64(5)"
      ]
     },
     "execution_count": 44,
     "metadata": {},
     "output_type": "execute_result"
    }
   ],
   "source": [
    "df['price'][6]"
   ]
  },
  {
   "cell_type": "code",
   "execution_count": 45,
   "metadata": {},
   "outputs": [
    {
     "data": {
      "text/plain": [
       "np.float64(15.93)"
      ]
     },
     "execution_count": 45,
     "metadata": {},
     "output_type": "execute_result"
    }
   ],
   "source": [
    "round(df['price'].mean(), 2)"
   ]
  },
  {
   "cell_type": "code",
   "execution_count": 46,
   "metadata": {},
   "outputs": [],
   "source": [
    "# df"
   ]
  },
  {
   "cell_type": "code",
   "execution_count": 47,
   "metadata": {},
   "outputs": [],
   "source": [
    "# pip install matplotlib"
   ]
  },
  {
   "cell_type": "code",
   "execution_count": 48,
   "metadata": {},
   "outputs": [],
   "source": [
    "# df['price'].value_counts()"
   ]
  },
  {
   "cell_type": "code",
   "execution_count": 49,
   "metadata": {},
   "outputs": [
    {
     "data": {
      "text/plain": [
       "<Axes: xlabel='price'>"
      ]
     },
     "execution_count": 49,
     "metadata": {},
     "output_type": "execute_result"
    },
    {
     "data": {
      "image/png": "[encoded data removed]",
      "text/plain": [
       "<Figure size 640x480 with 1 Axes>"
      ]
     },
     "metadata": {},
     "output_type": "display_data"
    }
   ],
   "source": [
    "df['price'].value_counts().sort_index().plot(kind='bar')\n"
   ]
  },
  {
   "cell_type": "markdown",
   "metadata": {},
   "source": [
    "## GEOCODE"
   ]
  },
  {
   "cell_type": "markdown",
   "metadata": {},
   "source": [
    "*Prompt*  \n",
    "\n",
    "I want to geo code addresses using the google maps api. The addresses are stored in the column 'address'. I want to send the api the addresses and then get the lat and long as new columns in my df. I also want to return the status of the api call and the formatted address from the api. "
   ]
  },
  {
   "cell_type": "markdown",
   "metadata": {},
   "source": [
    "NOTE: We know we have some addresses that definitley won't work -- \"Multiple Addresses\""
   ]
  },
  {
   "cell_type": "code",
   "execution_count": 50,
   "metadata": {},
   "outputs": [
    {
     "data": {
      "text/plain": [
       "np.int64(9)"
      ]
     },
     "execution_count": 50,
     "metadata": {},
     "output_type": "execute_result"
    }
   ],
   "source": [
    "df['address'].str.contains('Multiple').sum()"
   ]
  },
  {
   "cell_type": "markdown",
   "metadata": {},
   "source": [
    "Get my API keys"
   ]
  },
  {
   "cell_type": "code",
   "execution_count": 134,
   "metadata": {},
   "outputs": [],
   "source": [
    "import os\n",
    "from dotenv import load_dotenv\n",
    "\n",
    "# Load .env file\n",
    "load_dotenv()\n",
    "\n",
    "# Get API key\n",
    "google_maps_api_key = os.getenv(\"GOOGLE_MAPS_GEO_API_KEY\")"
   ]
  },
  {
   "cell_type": "code",
   "execution_count": 135,
   "metadata": {},
   "outputs": [],
   "source": [
    "# import pandas as pd\n",
    "import googlemaps\n",
    "import time\n",
    "\n",
    "# Initialize Google Maps API client\n",
    "# API_KEY = \"YOUR_GOOGLE_MAPS_API_KEY\"\n",
    "gmaps = googlemaps.Client(key=google_maps_api_key)\n",
    "\n",
    "def geocode_address(address):\n",
    "    \"\"\"Geocode an address using Google Maps API and return lat, long, status, and formatted address.\"\"\"\n",
    "    try:\n",
    "        response = gmaps.geocode(address)\n",
    "        if response:\n",
    "            location = response[0]['geometry']['location']\n",
    "            formatted_address = response[0]['formatted_address']\n",
    "            return location['lat'], location['lng'], \"OK\", formatted_address\n",
    "        else:\n",
    "            return None, None, \"ZERO_RESULTS\", None\n",
    "    except Exception as e:\n",
    "        return None, None, \"ERROR\", str(e)\n",
    "\n",
    "# Apply geocoding function to each address\n",
    "df[['latitude', 'longitude', 'api_status', 'formatted_address']] = df['address'].apply(lambda x: pd.Series(geocode_address(x)))"
   ]
  },
  {
   "cell_type": "code",
   "execution_count": 136,
   "metadata": {},
   "outputs": [
    {
     "data": {
      "text/plain": [
       "Index(['restaurant', 'sandwich_name', 'meta_data', 'description', 'image_url',\n",
       "       'website', 'address', 'price', 'latitude', 'longitude', 'api_status',\n",
       "       'formatted_address'],\n",
       "      dtype='object')"
      ]
     },
     "execution_count": 136,
     "metadata": {},
     "output_type": "execute_result"
    }
   ],
   "source": [
    "df.columns"
   ]
  },
  {
   "cell_type": "code",
   "execution_count": 137,
   "metadata": {},
   "outputs": [],
   "source": [
    "# df"
   ]
  },
  {
   "cell_type": "code",
   "execution_count": 160,
   "metadata": {},
   "outputs": [
    {
     "data": {
      "text/html": [
       "<div>\n",
       "<style scoped>\n",
       "    .dataframe tbody tr th:only-of-type {\n",
       "        vertical-align: middle;\n",
       "    }\n",
       "\n",
       "    .dataframe tbody tr th {\n",
       "        vertical-align: top;\n",
       "    }\n",
       "\n",
       "    .dataframe thead th {\n",
       "        text-align: right;\n",
       "    }\n",
       "</style>\n",
       "<table border=\"1\" class=\"dataframe\">\n",
       "  <thead>\n",
       "    <tr style=\"text-align: right;\">\n",
       "      <th></th>\n",
       "      <th>sandwich_name</th>\n",
       "      <th>restaurant</th>\n",
       "      <th>address</th>\n",
       "      <th>formatted_address</th>\n",
       "      <th>latitude</th>\n",
       "      <th>longitude</th>\n",
       "      <th>api_status</th>\n",
       "    </tr>\n",
       "  </thead>\n",
       "  <tbody>\n",
       "    <tr>\n",
       "      <th>0</th>\n",
       "      <td>Chorizo egg sandwich</td>\n",
       "      <td>C&amp;B</td>\n",
       "      <td>178 East Seventh Street (Avenue B)</td>\n",
       "      <td>178 E 7th St, New York, NY 10009, USA</td>\n",
       "      <td>40.725077</td>\n",
       "      <td>-73.981695</td>\n",
       "      <td>OK</td>\n",
       "    </tr>\n",
       "    <tr>\n",
       "      <th>1</th>\n",
       "      <td>Smoked salmon sandwich</td>\n",
       "      <td>Radio Bakery</td>\n",
       "      <td>135 India Street (Manhattan Avenue)</td>\n",
       "      <td>135 India St, Brooklyn, NY 11222, USA</td>\n",
       "      <td>40.732407</td>\n",
       "      <td>-73.955044</td>\n",
       "      <td>OK</td>\n",
       "    </tr>\n",
       "    <tr>\n",
       "      <th>2</th>\n",
       "      <td>BEC&amp;L</td>\n",
       "      <td>Edith’s</td>\n",
       "      <td>495 Lorimer Street (Powers Street)</td>\n",
       "      <td>495 Lorimer St, Brooklyn, NY 11211, USA</td>\n",
       "      <td>40.711708</td>\n",
       "      <td>-73.949175</td>\n",
       "      <td>OK</td>\n",
       "    </tr>\n",
       "    <tr>\n",
       "      <th>3</th>\n",
       "      <td>The Lumberjack</td>\n",
       "      <td>Daily Provisions</td>\n",
       "      <td>Multiple locations</td>\n",
       "      <td>None</td>\n",
       "      <td>NaN</td>\n",
       "      <td>NaN</td>\n",
       "      <td>ZERO_RESULTS</td>\n",
       "    </tr>\n",
       "    <tr>\n",
       "      <th>4</th>\n",
       "      <td>The Newhouse</td>\n",
       "      <td>Shelsky’s Brooklyn Bagels</td>\n",
       "      <td>453 Fourth Avenue (10th Street)</td>\n",
       "      <td>453 N 4th Ave, Tucson, AZ 85705, USA</td>\n",
       "      <td>32.227559</td>\n",
       "      <td>-110.965780</td>\n",
       "      <td>OK</td>\n",
       "    </tr>\n",
       "    <tr>\n",
       "      <th>5</th>\n",
       "      <td>Egg katsu sando</td>\n",
       "      <td>Little Egg</td>\n",
       "      <td>657 Washington Avenue (St. Marks Avenue)</td>\n",
       "      <td>None</td>\n",
       "      <td>NaN</td>\n",
       "      <td>NaN</td>\n",
       "      <td>ZERO_RESULTS</td>\n",
       "    </tr>\n",
       "    <tr>\n",
       "      <th>6</th>\n",
       "      <td>Shake Shack breakfast sandwich</td>\n",
       "      <td>Kennedy International Airport Terminal 4</td>\n",
       "      <td>Kennedy International Airport</td>\n",
       "      <td>John F. Kennedy International Airport (JFK), Q...</td>\n",
       "      <td>40.644612</td>\n",
       "      <td>-73.779728</td>\n",
       "      <td>OK</td>\n",
       "    </tr>\n",
       "    <tr>\n",
       "      <th>7</th>\n",
       "      <td>The Italian</td>\n",
       "      <td>Faicco’s Italian Specialties</td>\n",
       "      <td>260 Bleecker Street (Leroy Street)</td>\n",
       "      <td>260 Bleecker St, New York, NY 10014, USA</td>\n",
       "      <td>40.731121</td>\n",
       "      <td>-74.003117</td>\n",
       "      <td>OK</td>\n",
       "    </tr>\n",
       "    <tr>\n",
       "      <th>8</th>\n",
       "      <td>Chicken Parm hero</td>\n",
       "      <td>Mama’s Too!</td>\n",
       "      <td>Multiple locations</td>\n",
       "      <td>None</td>\n",
       "      <td>NaN</td>\n",
       "      <td>NaN</td>\n",
       "      <td>ZERO_RESULTS</td>\n",
       "    </tr>\n",
       "    <tr>\n",
       "      <th>9</th>\n",
       "      <td>The Casa</td>\n",
       "      <td>Casa Della Mozzarella</td>\n",
       "      <td>604 East 187th Street (Arthur Avenue)</td>\n",
       "      <td>604 E 187th St, Bronx, NY 10458, USA</td>\n",
       "      <td>40.855347</td>\n",
       "      <td>-73.887424</td>\n",
       "      <td>OK</td>\n",
       "    </tr>\n",
       "    <tr>\n",
       "      <th>10</th>\n",
       "      <td>Egg, potato and cheese hero</td>\n",
       "      <td>Defonte’s Sandwich Shop</td>\n",
       "      <td>379 Columbia Street (Luquer Street)</td>\n",
       "      <td>379 Columbia St, Brooklyn, NY 11231, USA</td>\n",
       "      <td>40.678965</td>\n",
       "      <td>-74.005340</td>\n",
       "      <td>OK</td>\n",
       "    </tr>\n",
       "    <tr>\n",
       "      <th>11</th>\n",
       "      <td>Uncle Rocco</td>\n",
       "      <td>Regina’s Grocery</td>\n",
       "      <td>Multiple locations</td>\n",
       "      <td>None</td>\n",
       "      <td>NaN</td>\n",
       "      <td>NaN</td>\n",
       "      <td>ZERO_RESULTS</td>\n",
       "    </tr>\n",
       "    <tr>\n",
       "      <th>12</th>\n",
       "      <td>The SoHo</td>\n",
       "      <td>Filoncino Cafe</td>\n",
       "      <td>4569 Amboy Road (Retford Avenue)</td>\n",
       "      <td>4569 Amboy Rd, Staten Island, NY 10312, USA</td>\n",
       "      <td>40.542582</td>\n",
       "      <td>-74.165535</td>\n",
       "      <td>OK</td>\n",
       "    </tr>\n",
       "    <tr>\n",
       "      <th>13</th>\n",
       "      <td>Michelangelo</td>\n",
       "      <td>Alidoro</td>\n",
       "      <td>Multiple locations</td>\n",
       "      <td>None</td>\n",
       "      <td>NaN</td>\n",
       "      <td>NaN</td>\n",
       "      <td>ZERO_RESULTS</td>\n",
       "    </tr>\n",
       "    <tr>\n",
       "      <th>14</th>\n",
       "      <td>The Bomb</td>\n",
       "      <td>Sal, Kris and Charlie’s Deli</td>\n",
       "      <td>33-12 23rd Avenue (33rd Street)</td>\n",
       "      <td>33-12 23rd Ave, Astoria, NY 11105, USA</td>\n",
       "      <td>40.773193</td>\n",
       "      <td>-73.911614</td>\n",
       "      <td>OK</td>\n",
       "    </tr>\n",
       "    <tr>\n",
       "      <th>15</th>\n",
       "      <td>HLT</td>\n",
       "      <td>Baby Blues Luncheonette</td>\n",
       "      <td>97 Montrose Avenue (Leonard Street)</td>\n",
       "      <td>97 Montrose Ave, Brooklyn, NY 11206, USA</td>\n",
       "      <td>40.707279</td>\n",
       "      <td>-73.945798</td>\n",
       "      <td>OK</td>\n",
       "    </tr>\n",
       "    <tr>\n",
       "      <th>16</th>\n",
       "      <td>Veg-Italian Sub</td>\n",
       "      <td>Court Street Grocers</td>\n",
       "      <td>Multiple locations</td>\n",
       "      <td>None</td>\n",
       "      <td>NaN</td>\n",
       "      <td>NaN</td>\n",
       "      <td>ZERO_RESULTS</td>\n",
       "    </tr>\n",
       "    <tr>\n",
       "      <th>17</th>\n",
       "      <td>Crispy Chick’n</td>\n",
       "      <td>Sunday C&amp;C Eatery</td>\n",
       "      <td>348 Bowery (Great Jones Street)</td>\n",
       "      <td>348 Bowery, New York, NY 10012, USA</td>\n",
       "      <td>40.726650</td>\n",
       "      <td>-73.992002</td>\n",
       "      <td>OK</td>\n",
       "    </tr>\n",
       "    <tr>\n",
       "      <th>18</th>\n",
       "      <td>Scuttlebutt</td>\n",
       "      <td>Marlow &amp; Sons</td>\n",
       "      <td>81 Broadway (Berry Street)</td>\n",
       "      <td>81 Broadway, Brooklyn, NY 11249, USA</td>\n",
       "      <td>40.710689</td>\n",
       "      <td>-73.965670</td>\n",
       "      <td>OK</td>\n",
       "    </tr>\n",
       "    <tr>\n",
       "      <th>19</th>\n",
       "      <td>Collard greens sandwich on focaccia</td>\n",
       "      <td>Superiority Burger</td>\n",
       "      <td>119 Avenue A (East Seventh Street)</td>\n",
       "      <td>119 Avenue A, New York, NY 10009, USA</td>\n",
       "      <td>40.726484</td>\n",
       "      <td>-73.983509</td>\n",
       "      <td>OK</td>\n",
       "    </tr>\n",
       "    <tr>\n",
       "      <th>20</th>\n",
       "      <td>French Onion Sandwich</td>\n",
       "      <td>Houseman</td>\n",
       "      <td>508 Greenwich Street (Spring Street)</td>\n",
       "      <td>508 Greenwich St, New York, NY 10013, USA</td>\n",
       "      <td>40.725734</td>\n",
       "      <td>-74.009411</td>\n",
       "      <td>OK</td>\n",
       "    </tr>\n",
       "    <tr>\n",
       "      <th>21</th>\n",
       "      <td>Vegan BBQ pork bao bun</td>\n",
       "      <td>Spring Cafe</td>\n",
       "      <td>153d Centre Street (Canal Street)</td>\n",
       "      <td>153d Centre St, New York, NY 10013, USA</td>\n",
       "      <td>40.717895</td>\n",
       "      <td>-74.000331</td>\n",
       "      <td>OK</td>\n",
       "    </tr>\n",
       "    <tr>\n",
       "      <th>22</th>\n",
       "      <td>Vegan lobster roll</td>\n",
       "      <td>Aunts et Uncles</td>\n",
       "      <td>1407 Nostrand Avenue (Martense Street)</td>\n",
       "      <td>1407 Nostrand Ave, Brooklyn, NY 11226, USA</td>\n",
       "      <td>40.652068</td>\n",
       "      <td>-73.949541</td>\n",
       "      <td>OK</td>\n",
       "    </tr>\n",
       "    <tr>\n",
       "      <th>23</th>\n",
       "      <td>Pastrami on rye</td>\n",
       "      <td>Katz’s Delicatessen</td>\n",
       "      <td>205 East Houston Street (Ludlow Street)</td>\n",
       "      <td>205 E Houston St, New York, NY 10002, USA</td>\n",
       "      <td>40.722205</td>\n",
       "      <td>-73.987479</td>\n",
       "      <td>OK</td>\n",
       "    </tr>\n",
       "    <tr>\n",
       "      <th>24</th>\n",
       "      <td>Pastrami, egg and cheese</td>\n",
       "      <td>Frankel’s Delicatessen &amp; Appetizing</td>\n",
       "      <td>631 Manhattan Avenue (Nassau Street)</td>\n",
       "      <td>Nassau St, New York, NY, USA</td>\n",
       "      <td>40.709540</td>\n",
       "      <td>-74.008431</td>\n",
       "      <td>OK</td>\n",
       "    </tr>\n",
       "    <tr>\n",
       "      <th>25</th>\n",
       "      <td>Wagyu pastrami sando</td>\n",
       "      <td>Shalom Japan</td>\n",
       "      <td>310 South Fourth Street (Rodney Street)</td>\n",
       "      <td>310 S 4th St, Brooklyn, NY 11211, USA</td>\n",
       "      <td>40.709170</td>\n",
       "      <td>-73.955798</td>\n",
       "      <td>OK</td>\n",
       "    </tr>\n",
       "    <tr>\n",
       "      <th>26</th>\n",
       "      <td>The No. 7</td>\n",
       "      <td>Liebman’s Deli</td>\n",
       "      <td>552 West 235th Street (Johnson Avenue)</td>\n",
       "      <td>552 W 235th St, Bronx, NY 10463, USA</td>\n",
       "      <td>40.885495</td>\n",
       "      <td>-73.909700</td>\n",
       "      <td>OK</td>\n",
       "    </tr>\n",
       "    <tr>\n",
       "      <th>27</th>\n",
       "      <td>Classic bagel and lox</td>\n",
       "      <td>Russ &amp; Daughters Cafe</td>\n",
       "      <td>127 Orchard Street (Delancey Street)</td>\n",
       "      <td>127 Orchard St, New York, NY 10002, USA</td>\n",
       "      <td>40.719664</td>\n",
       "      <td>-73.989680</td>\n",
       "      <td>OK</td>\n",
       "    </tr>\n",
       "    <tr>\n",
       "      <th>28</th>\n",
       "      <td>Chopped cheese</td>\n",
       "      <td>Blue Sky Deli (Hajji’s)</td>\n",
       "      <td>2135 First Avenue (110th Street)</td>\n",
       "      <td>2135 1st Ave., New York, NY 10029, USA</td>\n",
       "      <td>40.792189</td>\n",
       "      <td>-73.938515</td>\n",
       "      <td>OK</td>\n",
       "    </tr>\n",
       "    <tr>\n",
       "      <th>29</th>\n",
       "      <td>The Governor’s Choice</td>\n",
       "      <td>The Old Town Bar and Restaurant</td>\n",
       "      <td>45 East 18th Street (Park Avenue South)</td>\n",
       "      <td>45 E 18th St, New York, NY 10003, USA</td>\n",
       "      <td>40.737611</td>\n",
       "      <td>-73.989158</td>\n",
       "      <td>OK</td>\n",
       "    </tr>\n",
       "    <tr>\n",
       "      <th>30</th>\n",
       "      <td>Caviar sandwich</td>\n",
       "      <td>Grand Central Oyster Bar</td>\n",
       "      <td>89 East 42nd Street (Park Avenue)</td>\n",
       "      <td>89 E 42nd St, New York, NY 10017, USA</td>\n",
       "      <td>40.752308</td>\n",
       "      <td>-73.977317</td>\n",
       "      <td>OK</td>\n",
       "    </tr>\n",
       "    <tr>\n",
       "      <th>31</th>\n",
       "      <td>Roll-n-Roast beef</td>\n",
       "      <td>Roll N Roaster</td>\n",
       "      <td>2901 Emmons Avenue (East 29th Street)</td>\n",
       "      <td>2901 Emmons Ave, Brooklyn, NY 11235, USA</td>\n",
       "      <td>40.584189</td>\n",
       "      <td>-73.939646</td>\n",
       "      <td>OK</td>\n",
       "    </tr>\n",
       "    <tr>\n",
       "      <th>32</th>\n",
       "      <td>Do It For Johnny</td>\n",
       "      <td>Anthony’s Paninoteca</td>\n",
       "      <td>3994 Amboy Road (Nelson Avenue)</td>\n",
       "      <td>3994 Amboy Rd, Staten Island, NY 10308, USA</td>\n",
       "      <td>40.550162</td>\n",
       "      <td>-74.150489</td>\n",
       "      <td>OK</td>\n",
       "    </tr>\n",
       "    <tr>\n",
       "      <th>33</th>\n",
       "      <td>Chicken Caesar wrap</td>\n",
       "      <td>Milano Market</td>\n",
       "      <td>Multiple locations</td>\n",
       "      <td>None</td>\n",
       "      <td>NaN</td>\n",
       "      <td>NaN</td>\n",
       "      <td>ZERO_RESULTS</td>\n",
       "    </tr>\n",
       "    <tr>\n",
       "      <th>34</th>\n",
       "      <td>Chopped salad sandwich</td>\n",
       "      <td>Farmer in the Deli</td>\n",
       "      <td>357 Myrtle Avenue (Adelphi Street)</td>\n",
       "      <td>357 Myrtle Ave, Brooklyn, NY 11205, USA</td>\n",
       "      <td>40.693401</td>\n",
       "      <td>-73.971740</td>\n",
       "      <td>OK</td>\n",
       "    </tr>\n",
       "    <tr>\n",
       "      <th>35</th>\n",
       "      <td>Prosciutto &amp; butter</td>\n",
       "      <td>BKLYN Larder</td>\n",
       "      <td>228 Flatbush Avenue (Bergen Street)</td>\n",
       "      <td>228 Flatbush Ave, Brooklyn, NY 11217, USA</td>\n",
       "      <td>40.680518</td>\n",
       "      <td>-73.975269</td>\n",
       "      <td>OK</td>\n",
       "    </tr>\n",
       "    <tr>\n",
       "      <th>36</th>\n",
       "      <td>Porchettaboutit</td>\n",
       "      <td>Foster Sundry</td>\n",
       "      <td>215 Knickerbocker Avenue (Troutman Street)</td>\n",
       "      <td>215 Knickerbocker Ave, Brooklyn, NY 11237, USA</td>\n",
       "      <td>40.703480</td>\n",
       "      <td>-73.926131</td>\n",
       "      <td>OK</td>\n",
       "    </tr>\n",
       "    <tr>\n",
       "      <th>37</th>\n",
       "      <td>Dill Party</td>\n",
       "      <td>Salty Lunch Lady’s Little Luncheonette</td>\n",
       "      <td>565 Woodward Avenue (Menahan Street)</td>\n",
       "      <td>565 Woodward Ave, Ridgewood, NY 11385, USA</td>\n",
       "      <td>40.706805</td>\n",
       "      <td>-73.908540</td>\n",
       "      <td>OK</td>\n",
       "    </tr>\n",
       "    <tr>\n",
       "      <th>38</th>\n",
       "      <td>Chicken katsu club</td>\n",
       "      <td>Golden Diner</td>\n",
       "      <td>123 Madison Street (Market Street)</td>\n",
       "      <td>123 Madison St, New York, NY 10002, USA</td>\n",
       "      <td>40.712417</td>\n",
       "      <td>-73.994264</td>\n",
       "      <td>OK</td>\n",
       "    </tr>\n",
       "    <tr>\n",
       "      <th>39</th>\n",
       "      <td>Confit tuna melt</td>\n",
       "      <td>Agi’s Counter</td>\n",
       "      <td>818 Franklin Avenue (Union Street)</td>\n",
       "      <td>818 Franklin Ave, Brooklyn, NY 11225, USA</td>\n",
       "      <td>40.669993</td>\n",
       "      <td>-73.958599</td>\n",
       "      <td>OK</td>\n",
       "    </tr>\n",
       "    <tr>\n",
       "      <th>40</th>\n",
       "      <td>Tuna salad</td>\n",
       "      <td>S &amp; P Lunch</td>\n",
       "      <td>174 Fifth Avenue (West 22nd Street)</td>\n",
       "      <td>174 5th Ave, New York, NY 10010, USA</td>\n",
       "      <td>40.741108</td>\n",
       "      <td>-73.990184</td>\n",
       "      <td>OK</td>\n",
       "    </tr>\n",
       "    <tr>\n",
       "      <th>41</th>\n",
       "      <td>Patty melt</td>\n",
       "      <td>The Commerce Inn</td>\n",
       "      <td>50 Commerce Street (Barrow Street)</td>\n",
       "      <td>50 Commerce St, New York, NY 10014, USA</td>\n",
       "      <td>40.731354</td>\n",
       "      <td>-74.005706</td>\n",
       "      <td>OK</td>\n",
       "    </tr>\n",
       "    <tr>\n",
       "      <th>42</th>\n",
       "      <td>The pho sandwich</td>\n",
       "      <td>Little Kirin</td>\n",
       "      <td>81 St. Marks Place (First Avenue)</td>\n",
       "      <td>81 St Marks Pl, New York, NY 10003, USA</td>\n",
       "      <td>40.727872</td>\n",
       "      <td>-73.985469</td>\n",
       "      <td>OK</td>\n",
       "    </tr>\n",
       "    <tr>\n",
       "      <th>43</th>\n",
       "      <td>Shawarma East pita</td>\n",
       "      <td>Spice Brothers</td>\n",
       "      <td>110 St. Marks Place (Avenue A)</td>\n",
       "      <td>110 St Marks Pl, New York, NY 10009, USA</td>\n",
       "      <td>40.726908</td>\n",
       "      <td>-73.984365</td>\n",
       "      <td>OK</td>\n",
       "    </tr>\n",
       "    <tr>\n",
       "      <th>44</th>\n",
       "      <td>Bánh mì xiú mai</td>\n",
       "      <td>Thanh Da I</td>\n",
       "      <td>6008 Seventh Avenue (60th Street)</td>\n",
       "      <td>60th St, Brooklyn, NY, USA</td>\n",
       "      <td>40.628777</td>\n",
       "      <td>-73.998423</td>\n",
       "      <td>OK</td>\n",
       "    </tr>\n",
       "    <tr>\n",
       "      <th>45</th>\n",
       "      <td>Hot ham sandwich</td>\n",
       "      <td>Hamburger America</td>\n",
       "      <td>51 Macdougal Street (West Houston Street)</td>\n",
       "      <td>51 MacDougal St, New York, NY 10012, USA</td>\n",
       "      <td>40.727911</td>\n",
       "      <td>-74.002403</td>\n",
       "      <td>OK</td>\n",
       "    </tr>\n",
       "    <tr>\n",
       "      <th>46</th>\n",
       "      <td>Spicy cumin lamb burger</td>\n",
       "      <td>Xi’an Famous Foods</td>\n",
       "      <td>Multiple locations</td>\n",
       "      <td>None</td>\n",
       "      <td>NaN</td>\n",
       "      <td>NaN</td>\n",
       "      <td>ZERO_RESULTS</td>\n",
       "    </tr>\n",
       "    <tr>\n",
       "      <th>47</th>\n",
       "      <td>Short rib barbacoa cemita</td>\n",
       "      <td>Cemitas El Tigre</td>\n",
       "      <td>45-14 48th Avenue (46th Street)</td>\n",
       "      <td>45-14 48th Ave, Flushing, NY 11377, USA</td>\n",
       "      <td>40.739128</td>\n",
       "      <td>-73.919878</td>\n",
       "      <td>OK</td>\n",
       "    </tr>\n",
       "    <tr>\n",
       "      <th>48</th>\n",
       "      <td>Cubano sandwich</td>\n",
       "      <td>Tico’s Cuban American Cafeteria</td>\n",
       "      <td>151 Wilson Avenue (Suydam Street)</td>\n",
       "      <td>151 Wilson Ave, Brooklyn, NY 11237, USA</td>\n",
       "      <td>40.700485</td>\n",
       "      <td>-73.924926</td>\n",
       "      <td>OK</td>\n",
       "    </tr>\n",
       "    <tr>\n",
       "      <th>49</th>\n",
       "      <td>Focaccia sandwich</td>\n",
       "      <td>Lucia Alimentari</td>\n",
       "      <td>301 West Broadway (Canal Street)</td>\n",
       "      <td>301 W Broadway, New York, NY 10013, USA</td>\n",
       "      <td>40.721451</td>\n",
       "      <td>-74.004329</td>\n",
       "      <td>OK</td>\n",
       "    </tr>\n",
       "    <tr>\n",
       "      <th>50</th>\n",
       "      <td>Oxtail Macpatty</td>\n",
       "      <td>Datz Deli</td>\n",
       "      <td>Multiple locations</td>\n",
       "      <td>None</td>\n",
       "      <td>NaN</td>\n",
       "      <td>NaN</td>\n",
       "      <td>ZERO_RESULTS</td>\n",
       "    </tr>\n",
       "    <tr>\n",
       "      <th>51</th>\n",
       "      <td>Chopped chicharrón and brisket sandwich</td>\n",
       "      <td>Bark Barbecue</td>\n",
       "      <td>55 Water Street (Dock Street)</td>\n",
       "      <td>55 Water St, Brooklyn, NY 11201, USA</td>\n",
       "      <td>40.703363</td>\n",
       "      <td>-73.991666</td>\n",
       "      <td>OK</td>\n",
       "    </tr>\n",
       "    <tr>\n",
       "      <th>52</th>\n",
       "      <td>Bulgogi Fatboy</td>\n",
       "      <td>Syko</td>\n",
       "      <td>126 Windsor Place (Prospect Park West)</td>\n",
       "      <td>126 Windsor Pl, Brooklyn, NY 11215, USA</td>\n",
       "      <td>40.659872</td>\n",
       "      <td>-73.981230</td>\n",
       "      <td>OK</td>\n",
       "    </tr>\n",
       "    <tr>\n",
       "      <th>53</th>\n",
       "      <td>Lil’ Rowdy and Big Rowdy</td>\n",
       "      <td>Rowdy Rooster</td>\n",
       "      <td>Multiple locations</td>\n",
       "      <td>None</td>\n",
       "      <td>NaN</td>\n",
       "      <td>NaN</td>\n",
       "      <td>ZERO_RESULTS</td>\n",
       "    </tr>\n",
       "    <tr>\n",
       "      <th>54</th>\n",
       "      <td>Mille-feuille pork katsu sando</td>\n",
       "      <td>Cocoron Market</td>\n",
       "      <td>61 Delancey Street (Allen Street)</td>\n",
       "      <td>61 Delancey St, New York, NY 10002, USA</td>\n",
       "      <td>40.719123</td>\n",
       "      <td>-73.990902</td>\n",
       "      <td>OK</td>\n",
       "    </tr>\n",
       "    <tr>\n",
       "      <th>55</th>\n",
       "      <td>Char siu BK Rib</td>\n",
       "      <td>Bonnie’s</td>\n",
       "      <td>398 Manhattan Avenue (Frost Street)</td>\n",
       "      <td>398 Manhattan Ave, Brooklyn, NY 11211, USA</td>\n",
       "      <td>40.717816</td>\n",
       "      <td>-73.946436</td>\n",
       "      <td>OK</td>\n",
       "    </tr>\n",
       "  </tbody>\n",
       "</table>\n",
       "</div>"
      ],
      "text/plain": [
       "                              sandwich_name  \\\n",
       "0                      Chorizo egg sandwich   \n",
       "1                    Smoked salmon sandwich   \n",
       "2                                     BEC&L   \n",
       "3                            The Lumberjack   \n",
       "4                              The Newhouse   \n",
       "5                           Egg katsu sando   \n",
       "6            Shake Shack breakfast sandwich   \n",
       "7                               The Italian   \n",
       "8                         Chicken Parm hero   \n",
       "9                                  The Casa   \n",
       "10              Egg, potato and cheese hero   \n",
       "11                              Uncle Rocco   \n",
       "12                                 The SoHo   \n",
       "13                             Michelangelo   \n",
       "14                                 The Bomb   \n",
       "15                                      HLT   \n",
       "16                          Veg-Italian Sub   \n",
       "17                           Crispy Chick’n   \n",
       "18                              Scuttlebutt   \n",
       "19      Collard greens sandwich on focaccia   \n",
       "20                    French Onion Sandwich   \n",
       "21                   Vegan BBQ pork bao bun   \n",
       "22                       Vegan lobster roll   \n",
       "23                          Pastrami on rye   \n",
       "24                 Pastrami, egg and cheese   \n",
       "25                     Wagyu pastrami sando   \n",
       "26                                The No. 7   \n",
       "27                    Classic bagel and lox   \n",
       "28                           Chopped cheese   \n",
       "29                    The Governor’s Choice   \n",
       "30                          Caviar sandwich   \n",
       "31                        Roll-n-Roast beef   \n",
       "32                         Do It For Johnny   \n",
       "33                      Chicken Caesar wrap   \n",
       "34                   Chopped salad sandwich   \n",
       "35                      Prosciutto & butter   \n",
       "36                          Porchettaboutit   \n",
       "37                               Dill Party   \n",
       "38                       Chicken katsu club   \n",
       "39                         Confit tuna melt   \n",
       "40                               Tuna salad   \n",
       "41                               Patty melt   \n",
       "42                         The pho sandwich   \n",
       "43                       Shawarma East pita   \n",
       "44                          Bánh mì xiú mai   \n",
       "45                         Hot ham sandwich   \n",
       "46                  Spicy cumin lamb burger   \n",
       "47                Short rib barbacoa cemita   \n",
       "48                          Cubano sandwich   \n",
       "49                        Focaccia sandwich   \n",
       "50                          Oxtail Macpatty   \n",
       "51  Chopped chicharrón and brisket sandwich   \n",
       "52                           Bulgogi Fatboy   \n",
       "53                 Lil’ Rowdy and Big Rowdy   \n",
       "54           Mille-feuille pork katsu sando   \n",
       "55                          Char siu BK Rib   \n",
       "\n",
       "                                  restaurant  \\\n",
       "0                                        C&B   \n",
       "1                               Radio Bakery   \n",
       "2                                    Edith’s   \n",
       "3                           Daily Provisions   \n",
       "4                  Shelsky’s Brooklyn Bagels   \n",
       "5                                 Little Egg   \n",
       "6   Kennedy International Airport Terminal 4   \n",
       "7               Faicco’s Italian Specialties   \n",
       "8                                Mama’s Too!   \n",
       "9                      Casa Della Mozzarella   \n",
       "10                   Defonte’s Sandwich Shop   \n",
       "11                          Regina’s Grocery   \n",
       "12                            Filoncino Cafe   \n",
       "13                                   Alidoro   \n",
       "14              Sal, Kris and Charlie’s Deli   \n",
       "15                   Baby Blues Luncheonette   \n",
       "16                      Court Street Grocers   \n",
       "17                         Sunday C&C Eatery   \n",
       "18                             Marlow & Sons   \n",
       "19                        Superiority Burger   \n",
       "20                                  Houseman   \n",
       "21                               Spring Cafe   \n",
       "22                           Aunts et Uncles   \n",
       "23                       Katz’s Delicatessen   \n",
       "24       Frankel’s Delicatessen & Appetizing   \n",
       "25                              Shalom Japan   \n",
       "26                            Liebman’s Deli   \n",
       "27                     Russ & Daughters Cafe   \n",
       "28                   Blue Sky Deli (Hajji’s)   \n",
       "29           The Old Town Bar and Restaurant   \n",
       "30                  Grand Central Oyster Bar   \n",
       "31                            Roll N Roaster   \n",
       "32                      Anthony’s Paninoteca   \n",
       "33                             Milano Market   \n",
       "34                        Farmer in the Deli   \n",
       "35                              BKLYN Larder   \n",
       "36                             Foster Sundry   \n",
       "37    Salty Lunch Lady’s Little Luncheonette   \n",
       "38                              Golden Diner   \n",
       "39                             Agi’s Counter   \n",
       "40                               S & P Lunch   \n",
       "41                          The Commerce Inn   \n",
       "42                              Little Kirin   \n",
       "43                            Spice Brothers   \n",
       "44                                Thanh Da I   \n",
       "45                         Hamburger America   \n",
       "46                        Xi’an Famous Foods   \n",
       "47                          Cemitas El Tigre   \n",
       "48           Tico’s Cuban American Cafeteria   \n",
       "49                          Lucia Alimentari   \n",
       "50                                 Datz Deli   \n",
       "51                             Bark Barbecue   \n",
       "52                                      Syko   \n",
       "53                             Rowdy Rooster   \n",
       "54                            Cocoron Market   \n",
       "55                                  Bonnie’s   \n",
       "\n",
       "                                       address  \\\n",
       "0           178 East Seventh Street (Avenue B)   \n",
       "1          135 India Street (Manhattan Avenue)   \n",
       "2           495 Lorimer Street (Powers Street)   \n",
       "3                           Multiple locations   \n",
       "4              453 Fourth Avenue (10th Street)   \n",
       "5     657 Washington Avenue (St. Marks Avenue)   \n",
       "6                Kennedy International Airport   \n",
       "7           260 Bleecker Street (Leroy Street)   \n",
       "8                           Multiple locations   \n",
       "9        604 East 187th Street (Arthur Avenue)   \n",
       "10         379 Columbia Street (Luquer Street)   \n",
       "11                          Multiple locations   \n",
       "12            4569 Amboy Road (Retford Avenue)   \n",
       "13                          Multiple locations   \n",
       "14             33-12 23rd Avenue (33rd Street)   \n",
       "15         97 Montrose Avenue (Leonard Street)   \n",
       "16                          Multiple locations   \n",
       "17             348 Bowery (Great Jones Street)   \n",
       "18                  81 Broadway (Berry Street)   \n",
       "19          119 Avenue A (East Seventh Street)   \n",
       "20        508 Greenwich Street (Spring Street)   \n",
       "21           153d Centre Street (Canal Street)   \n",
       "22      1407 Nostrand Avenue (Martense Street)   \n",
       "23     205 East Houston Street (Ludlow Street)   \n",
       "24        631 Manhattan Avenue (Nassau Street)   \n",
       "25     310 South Fourth Street (Rodney Street)   \n",
       "26      552 West 235th Street (Johnson Avenue)   \n",
       "27        127 Orchard Street (Delancey Street)   \n",
       "28            2135 First Avenue (110th Street)   \n",
       "29     45 East 18th Street (Park Avenue South)   \n",
       "30           89 East 42nd Street (Park Avenue)   \n",
       "31       2901 Emmons Avenue (East 29th Street)   \n",
       "32             3994 Amboy Road (Nelson Avenue)   \n",
       "33                          Multiple locations   \n",
       "34          357 Myrtle Avenue (Adelphi Street)   \n",
       "35         228 Flatbush Avenue (Bergen Street)   \n",
       "36  215 Knickerbocker Avenue (Troutman Street)   \n",
       "37        565 Woodward Avenue (Menahan Street)   \n",
       "38          123 Madison Street (Market Street)   \n",
       "39          818 Franklin Avenue (Union Street)   \n",
       "40         174 Fifth Avenue (West 22nd Street)   \n",
       "41          50 Commerce Street (Barrow Street)   \n",
       "42           81 St. Marks Place (First Avenue)   \n",
       "43              110 St. Marks Place (Avenue A)   \n",
       "44           6008 Seventh Avenue (60th Street)   \n",
       "45   51 Macdougal Street (West Houston Street)   \n",
       "46                          Multiple locations   \n",
       "47             45-14 48th Avenue (46th Street)   \n",
       "48           151 Wilson Avenue (Suydam Street)   \n",
       "49            301 West Broadway (Canal Street)   \n",
       "50                          Multiple locations   \n",
       "51               55 Water Street (Dock Street)   \n",
       "52      126 Windsor Place (Prospect Park West)   \n",
       "53                          Multiple locations   \n",
       "54           61 Delancey Street (Allen Street)   \n",
       "55         398 Manhattan Avenue (Frost Street)   \n",
       "\n",
       "                                    formatted_address   latitude   longitude  \\\n",
       "0               178 E 7th St, New York, NY 10009, USA  40.725077  -73.981695   \n",
       "1               135 India St, Brooklyn, NY 11222, USA  40.732407  -73.955044   \n",
       "2             495 Lorimer St, Brooklyn, NY 11211, USA  40.711708  -73.949175   \n",
       "3                                                None        NaN         NaN   \n",
       "4                453 N 4th Ave, Tucson, AZ 85705, USA  32.227559 -110.965780   \n",
       "5                                                None        NaN         NaN   \n",
       "6   John F. Kennedy International Airport (JFK), Q...  40.644612  -73.779728   \n",
       "7            260 Bleecker St, New York, NY 10014, USA  40.731121  -74.003117   \n",
       "8                                                None        NaN         NaN   \n",
       "9                604 E 187th St, Bronx, NY 10458, USA  40.855347  -73.887424   \n",
       "10           379 Columbia St, Brooklyn, NY 11231, USA  40.678965  -74.005340   \n",
       "11                                               None        NaN         NaN   \n",
       "12        4569 Amboy Rd, Staten Island, NY 10312, USA  40.542582  -74.165535   \n",
       "13                                               None        NaN         NaN   \n",
       "14             33-12 23rd Ave, Astoria, NY 11105, USA  40.773193  -73.911614   \n",
       "15           97 Montrose Ave, Brooklyn, NY 11206, USA  40.707279  -73.945798   \n",
       "16                                               None        NaN         NaN   \n",
       "17                348 Bowery, New York, NY 10012, USA  40.726650  -73.992002   \n",
       "18               81 Broadway, Brooklyn, NY 11249, USA  40.710689  -73.965670   \n",
       "19              119 Avenue A, New York, NY 10009, USA  40.726484  -73.983509   \n",
       "20          508 Greenwich St, New York, NY 10013, USA  40.725734  -74.009411   \n",
       "21            153d Centre St, New York, NY 10013, USA  40.717895  -74.000331   \n",
       "22         1407 Nostrand Ave, Brooklyn, NY 11226, USA  40.652068  -73.949541   \n",
       "23          205 E Houston St, New York, NY 10002, USA  40.722205  -73.987479   \n",
       "24                       Nassau St, New York, NY, USA  40.709540  -74.008431   \n",
       "25              310 S 4th St, Brooklyn, NY 11211, USA  40.709170  -73.955798   \n",
       "26               552 W 235th St, Bronx, NY 10463, USA  40.885495  -73.909700   \n",
       "27            127 Orchard St, New York, NY 10002, USA  40.719664  -73.989680   \n",
       "28             2135 1st Ave., New York, NY 10029, USA  40.792189  -73.938515   \n",
       "29              45 E 18th St, New York, NY 10003, USA  40.737611  -73.989158   \n",
       "30              89 E 42nd St, New York, NY 10017, USA  40.752308  -73.977317   \n",
       "31           2901 Emmons Ave, Brooklyn, NY 11235, USA  40.584189  -73.939646   \n",
       "32        3994 Amboy Rd, Staten Island, NY 10308, USA  40.550162  -74.150489   \n",
       "33                                               None        NaN         NaN   \n",
       "34            357 Myrtle Ave, Brooklyn, NY 11205, USA  40.693401  -73.971740   \n",
       "35          228 Flatbush Ave, Brooklyn, NY 11217, USA  40.680518  -73.975269   \n",
       "36     215 Knickerbocker Ave, Brooklyn, NY 11237, USA  40.703480  -73.926131   \n",
       "37         565 Woodward Ave, Ridgewood, NY 11385, USA  40.706805  -73.908540   \n",
       "38            123 Madison St, New York, NY 10002, USA  40.712417  -73.994264   \n",
       "39          818 Franklin Ave, Brooklyn, NY 11225, USA  40.669993  -73.958599   \n",
       "40               174 5th Ave, New York, NY 10010, USA  40.741108  -73.990184   \n",
       "41            50 Commerce St, New York, NY 10014, USA  40.731354  -74.005706   \n",
       "42            81 St Marks Pl, New York, NY 10003, USA  40.727872  -73.985469   \n",
       "43           110 St Marks Pl, New York, NY 10009, USA  40.726908  -73.984365   \n",
       "44                         60th St, Brooklyn, NY, USA  40.628777  -73.998423   \n",
       "45           51 MacDougal St, New York, NY 10012, USA  40.727911  -74.002403   \n",
       "46                                               None        NaN         NaN   \n",
       "47            45-14 48th Ave, Flushing, NY 11377, USA  40.739128  -73.919878   \n",
       "48            151 Wilson Ave, Brooklyn, NY 11237, USA  40.700485  -73.924926   \n",
       "49            301 W Broadway, New York, NY 10013, USA  40.721451  -74.004329   \n",
       "50                                               None        NaN         NaN   \n",
       "51               55 Water St, Brooklyn, NY 11201, USA  40.703363  -73.991666   \n",
       "52            126 Windsor Pl, Brooklyn, NY 11215, USA  40.659872  -73.981230   \n",
       "53                                               None        NaN         NaN   \n",
       "54            61 Delancey St, New York, NY 10002, USA  40.719123  -73.990902   \n",
       "55         398 Manhattan Ave, Brooklyn, NY 11211, USA  40.717816  -73.946436   \n",
       "\n",
       "      api_status  \n",
       "0             OK  \n",
       "1             OK  \n",
       "2             OK  \n",
       "3   ZERO_RESULTS  \n",
       "4             OK  \n",
       "5   ZERO_RESULTS  \n",
       "6             OK  \n",
       "7             OK  \n",
       "8   ZERO_RESULTS  \n",
       "9             OK  \n",
       "10            OK  \n",
       "11  ZERO_RESULTS  \n",
       "12            OK  \n",
       "13  ZERO_RESULTS  \n",
       "14            OK  \n",
       "15            OK  \n",
       "16  ZERO_RESULTS  \n",
       "17            OK  \n",
       "18            OK  \n",
       "19            OK  \n",
       "20            OK  \n",
       "21            OK  \n",
       "22            OK  \n",
       "23            OK  \n",
       "24            OK  \n",
       "25            OK  \n",
       "26            OK  \n",
       "27            OK  \n",
       "28            OK  \n",
       "29            OK  \n",
       "30            OK  \n",
       "31            OK  \n",
       "32            OK  \n",
       "33  ZERO_RESULTS  \n",
       "34            OK  \n",
       "35            OK  \n",
       "36            OK  \n",
       "37            OK  \n",
       "38            OK  \n",
       "39            OK  \n",
       "40            OK  \n",
       "41            OK  \n",
       "42            OK  \n",
       "43            OK  \n",
       "44            OK  \n",
       "45            OK  \n",
       "46  ZERO_RESULTS  \n",
       "47            OK  \n",
       "48            OK  \n",
       "49            OK  \n",
       "50  ZERO_RESULTS  \n",
       "51            OK  \n",
       "52            OK  \n",
       "53  ZERO_RESULTS  \n",
       "54            OK  \n",
       "55            OK  "
      ]
     },
     "execution_count": 160,
     "metadata": {},
     "output_type": "execute_result"
    }
   ],
   "source": [
    "df[['sandwich_name', 'restaurant', 'address', 'formatted_address', 'latitude', 'longitude', 'api_status']]"
   ]
  },
  {
   "cell_type": "code",
   "execution_count": 161,
   "metadata": {},
   "outputs": [
    {
     "data": {
      "text/plain": [
       "api_status\n",
       "OK              46\n",
       "ZERO_RESULTS    10\n",
       "Name: count, dtype: int64"
      ]
     },
     "execution_count": 161,
     "metadata": {},
     "output_type": "execute_result"
    }
   ],
   "source": [
    "df['api_status'].value_counts()"
   ]
  },
  {
   "cell_type": "markdown",
   "metadata": {},
   "source": [
    "Split 'OK' addresses into their own dataframe"
   ]
  },
  {
   "cell_type": "code",
   "execution_count": 162,
   "metadata": {},
   "outputs": [],
   "source": [
    "geo_df_ok = df[df['api_status'] == 'OK'].copy()"
   ]
  },
  {
   "cell_type": "code",
   "execution_count": 163,
   "metadata": {},
   "outputs": [
    {
     "data": {
      "text/plain": [
       "(46, 12)"
      ]
     },
     "execution_count": 163,
     "metadata": {},
     "output_type": "execute_result"
    }
   ],
   "source": [
    "geo_df_ok.shape"
   ]
  },
  {
   "cell_type": "markdown",
   "metadata": {},
   "source": [
    "Do the addresses look reasonable?"
   ]
  },
  {
   "cell_type": "code",
   "execution_count": 164,
   "metadata": {},
   "outputs": [],
   "source": [
    "# geo_df_ok[['address', 'formatted_address']]"
   ]
  },
  {
   "cell_type": "markdown",
   "metadata": {},
   "source": [
    "Split 'ZERO_RESULTS' addresses into their own dataframe"
   ]
  },
  {
   "cell_type": "code",
   "execution_count": 165,
   "metadata": {},
   "outputs": [],
   "source": [
    "geo_df_bad = df[df['api_status'] == 'ZERO_RESULTS'].copy()"
   ]
  },
  {
   "cell_type": "code",
   "execution_count": 166,
   "metadata": {},
   "outputs": [
    {
     "data": {
      "text/plain": [
       "(10, 12)"
      ]
     },
     "execution_count": 166,
     "metadata": {},
     "output_type": "execute_result"
    }
   ],
   "source": [
    "geo_df_bad.shape"
   ]
  },
  {
   "cell_type": "code",
   "execution_count": 167,
   "metadata": {},
   "outputs": [
    {
     "data": {
      "text/plain": [
       "56"
      ]
     },
     "execution_count": 167,
     "metadata": {},
     "output_type": "execute_result"
    }
   ],
   "source": [
    "len(geo_df_bad) + len(geo_df_ok)"
   ]
  },
  {
   "cell_type": "markdown",
   "metadata": {},
   "source": [
    "What do the unsuccessful addresses look like?"
   ]
  },
  {
   "cell_type": "code",
   "execution_count": 168,
   "metadata": {},
   "outputs": [
    {
     "data": {
      "text/html": [
       "<div>\n",
       "<style scoped>\n",
       "    .dataframe tbody tr th:only-of-type {\n",
       "        vertical-align: middle;\n",
       "    }\n",
       "\n",
       "    .dataframe tbody tr th {\n",
       "        vertical-align: top;\n",
       "    }\n",
       "\n",
       "    .dataframe thead th {\n",
       "        text-align: right;\n",
       "    }\n",
       "</style>\n",
       "<table border=\"1\" class=\"dataframe\">\n",
       "  <thead>\n",
       "    <tr style=\"text-align: right;\">\n",
       "      <th></th>\n",
       "      <th>sandwich_name</th>\n",
       "      <th>restaurant</th>\n",
       "      <th>latitude</th>\n",
       "      <th>longitude</th>\n",
       "      <th>api_status</th>\n",
       "      <th>address</th>\n",
       "      <th>formatted_address</th>\n",
       "    </tr>\n",
       "  </thead>\n",
       "  <tbody>\n",
       "    <tr>\n",
       "      <th>3</th>\n",
       "      <td>The Lumberjack</td>\n",
       "      <td>Daily Provisions</td>\n",
       "      <td>NaN</td>\n",
       "      <td>NaN</td>\n",
       "      <td>ZERO_RESULTS</td>\n",
       "      <td>Multiple locations</td>\n",
       "      <td>None</td>\n",
       "    </tr>\n",
       "    <tr>\n",
       "      <th>5</th>\n",
       "      <td>Egg katsu sando</td>\n",
       "      <td>Little Egg</td>\n",
       "      <td>NaN</td>\n",
       "      <td>NaN</td>\n",
       "      <td>ZERO_RESULTS</td>\n",
       "      <td>657 Washington Avenue (St. Marks Avenue)</td>\n",
       "      <td>None</td>\n",
       "    </tr>\n",
       "    <tr>\n",
       "      <th>8</th>\n",
       "      <td>Chicken Parm hero</td>\n",
       "      <td>Mama’s Too!</td>\n",
       "      <td>NaN</td>\n",
       "      <td>NaN</td>\n",
       "      <td>ZERO_RESULTS</td>\n",
       "      <td>Multiple locations</td>\n",
       "      <td>None</td>\n",
       "    </tr>\n",
       "    <tr>\n",
       "      <th>11</th>\n",
       "      <td>Uncle Rocco</td>\n",
       "      <td>Regina’s Grocery</td>\n",
       "      <td>NaN</td>\n",
       "      <td>NaN</td>\n",
       "      <td>ZERO_RESULTS</td>\n",
       "      <td>Multiple locations</td>\n",
       "      <td>None</td>\n",
       "    </tr>\n",
       "    <tr>\n",
       "      <th>13</th>\n",
       "      <td>Michelangelo</td>\n",
       "      <td>Alidoro</td>\n",
       "      <td>NaN</td>\n",
       "      <td>NaN</td>\n",
       "      <td>ZERO_RESULTS</td>\n",
       "      <td>Multiple locations</td>\n",
       "      <td>None</td>\n",
       "    </tr>\n",
       "    <tr>\n",
       "      <th>16</th>\n",
       "      <td>Veg-Italian Sub</td>\n",
       "      <td>Court Street Grocers</td>\n",
       "      <td>NaN</td>\n",
       "      <td>NaN</td>\n",
       "      <td>ZERO_RESULTS</td>\n",
       "      <td>Multiple locations</td>\n",
       "      <td>None</td>\n",
       "    </tr>\n",
       "    <tr>\n",
       "      <th>33</th>\n",
       "      <td>Chicken Caesar wrap</td>\n",
       "      <td>Milano Market</td>\n",
       "      <td>NaN</td>\n",
       "      <td>NaN</td>\n",
       "      <td>ZERO_RESULTS</td>\n",
       "      <td>Multiple locations</td>\n",
       "      <td>None</td>\n",
       "    </tr>\n",
       "    <tr>\n",
       "      <th>46</th>\n",
       "      <td>Spicy cumin lamb burger</td>\n",
       "      <td>Xi’an Famous Foods</td>\n",
       "      <td>NaN</td>\n",
       "      <td>NaN</td>\n",
       "      <td>ZERO_RESULTS</td>\n",
       "      <td>Multiple locations</td>\n",
       "      <td>None</td>\n",
       "    </tr>\n",
       "    <tr>\n",
       "      <th>50</th>\n",
       "      <td>Oxtail Macpatty</td>\n",
       "      <td>Datz Deli</td>\n",
       "      <td>NaN</td>\n",
       "      <td>NaN</td>\n",
       "      <td>ZERO_RESULTS</td>\n",
       "      <td>Multiple locations</td>\n",
       "      <td>None</td>\n",
       "    </tr>\n",
       "    <tr>\n",
       "      <th>53</th>\n",
       "      <td>Lil’ Rowdy and Big Rowdy</td>\n",
       "      <td>Rowdy Rooster</td>\n",
       "      <td>NaN</td>\n",
       "      <td>NaN</td>\n",
       "      <td>ZERO_RESULTS</td>\n",
       "      <td>Multiple locations</td>\n",
       "      <td>None</td>\n",
       "    </tr>\n",
       "  </tbody>\n",
       "</table>\n",
       "</div>"
      ],
      "text/plain": [
       "               sandwich_name            restaurant  latitude  longitude  \\\n",
       "3             The Lumberjack      Daily Provisions       NaN        NaN   \n",
       "5            Egg katsu sando            Little Egg       NaN        NaN   \n",
       "8          Chicken Parm hero           Mama’s Too!       NaN        NaN   \n",
       "11               Uncle Rocco      Regina’s Grocery       NaN        NaN   \n",
       "13              Michelangelo               Alidoro       NaN        NaN   \n",
       "16           Veg-Italian Sub  Court Street Grocers       NaN        NaN   \n",
       "33       Chicken Caesar wrap         Milano Market       NaN        NaN   \n",
       "46   Spicy cumin lamb burger    Xi’an Famous Foods       NaN        NaN   \n",
       "50           Oxtail Macpatty             Datz Deli       NaN        NaN   \n",
       "53  Lil’ Rowdy and Big Rowdy         Rowdy Rooster       NaN        NaN   \n",
       "\n",
       "      api_status                                   address formatted_address  \n",
       "3   ZERO_RESULTS                        Multiple locations              None  \n",
       "5   ZERO_RESULTS  657 Washington Avenue (St. Marks Avenue)              None  \n",
       "8   ZERO_RESULTS                        Multiple locations              None  \n",
       "11  ZERO_RESULTS                        Multiple locations              None  \n",
       "13  ZERO_RESULTS                        Multiple locations              None  \n",
       "16  ZERO_RESULTS                        Multiple locations              None  \n",
       "33  ZERO_RESULTS                        Multiple locations              None  \n",
       "46  ZERO_RESULTS                        Multiple locations              None  \n",
       "50  ZERO_RESULTS                        Multiple locations              None  \n",
       "53  ZERO_RESULTS                        Multiple locations              None  "
      ]
     },
     "execution_count": 168,
     "metadata": {},
     "output_type": "execute_result"
    }
   ],
   "source": [
    "geo_df_bad[[\n",
    "    'sandwich_name', \n",
    "    'restaurant',\n",
    "    'latitude',\t\n",
    "    'longitude', \n",
    "    'api_status', \n",
    "    'address',\n",
    "    'formatted_address'\n",
    "]]"
   ]
  },
  {
   "cell_type": "markdown",
   "metadata": {},
   "source": [
    "*Prompt*\n",
    "\n",
    "Query google maps api by resturant name, wich is stored in the column geo_df_bad['restaurant']. On the same df, return the columns 'formatted_address' (from the api) , 'restaurant_name_api' (from the api), 'latitude', 'longitude', and 'api_status'. Many of the restaurants have multiple addresses, each address should have it's own row.\n",
    "\n",
    "NOTE: this took me into a pita pit of despair "
   ]
  },
  {
   "cell_type": "code",
   "execution_count": 169,
   "metadata": {},
   "outputs": [
    {
     "data": {
      "text/plain": [
       "Index(['restaurant', 'sandwich_name', 'meta_data', 'description', 'image_url',\n",
       "       'website', 'address', 'price', 'latitude', 'longitude', 'api_status',\n",
       "       'formatted_address'],\n",
       "      dtype='object')"
      ]
     },
     "execution_count": 169,
     "metadata": {},
     "output_type": "execute_result"
    }
   ],
   "source": [
    "geo_df_bad.columns"
   ]
  },
  {
   "cell_type": "code",
   "execution_count": 270,
   "metadata": {},
   "outputs": [],
   "source": [
    "import re\n",
    "import googlemaps \n",
    " \n",
    "gmaps = googlemaps.Client(key=google_maps_api_key)\n",
    "\n",
    "\n",
    "# Initialize an empty list to collect results\n",
    "geocode_results_bad = []\n",
    "\n",
    "# Loop through the DataFrame\n",
    "for index, row in geo_df_bad.iterrows():\n",
    "\n",
    "    # Use Google Places API to find all locations for the business\n",
    "    places_result = gmaps.places(query=row['restaurant'])\n",
    "\n",
    "    # Extract place names and addresses\n",
    "    locations = [(place['name'], place['formatted_address']) for place in places_result.get('results', [])]\n",
    "\n",
    "    # Geocode each location\n",
    "    for loc in locations:\n",
    "        place_result = gmaps.geocode(loc[1])\n",
    "        if place_result:\n",
    "            geocode_results_bad.append({\n",
    "                \"restaurant\": row['restaurant'],\n",
    "                \"sandwich_name\": row['sandwich_name'],\n",
    "                \"formatted_address\": loc[1],\n",
    "                \"address\": row['address'],\n",
    "                \"restaurant_api\": loc[0],\n",
    "                \"latitude\": place_result[0]['geometry']['location']['lat'],\n",
    "                \"longitude\": place_result[0]['geometry']['location']['lng'],\n",
    "                \"sandwich_name\": row['sandwich_name'],\n",
    "                \"image_url\": row['image_url'],\n",
    "                \"website\": row['website'],\n",
    "                \"description\": row['description'],\n",
    "                \"price\": row['price']\n",
    "            })\n"
   ]
  },
  {
   "cell_type": "code",
   "execution_count": 271,
   "metadata": {},
   "outputs": [],
   "source": [
    "# geocode_results_bad"
   ]
  },
  {
   "cell_type": "code",
   "execution_count": 272,
   "metadata": {},
   "outputs": [],
   "source": [
    "geo_df_bad_results = pd.DataFrame(geocode_results_bad)"
   ]
  },
  {
   "cell_type": "code",
   "execution_count": 273,
   "metadata": {},
   "outputs": [
    {
     "data": {
      "text/plain": [
       "Index(['restaurant', 'sandwich_name', 'formatted_address', 'address',\n",
       "       'restaurant_api', 'latitude', 'longitude', 'image_url', 'website',\n",
       "       'description', 'price'],\n",
       "      dtype='object')"
      ]
     },
     "execution_count": 273,
     "metadata": {},
     "output_type": "execute_result"
    }
   ],
   "source": [
    "geo_df_bad_results.columns"
   ]
  },
  {
   "cell_type": "code",
   "execution_count": 274,
   "metadata": {},
   "outputs": [],
   "source": [
    "# geo_df_bad_results[['restaurant', 'restaurant_api', 'formatted_address', 'latitude', 'longitude']]"
   ]
  },
  {
   "cell_type": "code",
   "execution_count": 275,
   "metadata": {},
   "outputs": [],
   "source": [
    "restaurants_to_remove = [\n",
    "    \"Old Xi’an\", \n",
    "    \"Authentic Xi’an Flavor\", \n",
    "    \"Bites of Xi'an\", \n",
    "    \"Famous Sichuan\", \n",
    "    \"Bites of Xian\", \n",
    "    \"Union Market\", \n",
    "    \"Caputo's Fine Foods\",\n",
    "    \"Union Market\",\n",
    "    \"Willy Deli Grocery Corp\"\n",
    "]"
   ]
  },
  {
   "cell_type": "code",
   "execution_count": 276,
   "metadata": {},
   "outputs": [],
   "source": [
    "# remove the bad restuarants\n",
    "geo_df_bad_results_filtered = geo_df_bad_results[\n",
    "    ~geo_df_bad_results['restaurant_api'].str.contains('|'.join(restaurants_to_remove), regex=True)\n",
    "].copy()\n"
   ]
  },
  {
   "cell_type": "code",
   "execution_count": 277,
   "metadata": {},
   "outputs": [],
   "source": [
    "geo_df_bad_results_filtered['address'] = geo_df_bad_results_filtered['formatted_address'].str.replace(', United States', '')\n"
   ]
  },
  {
   "cell_type": "code",
   "execution_count": 278,
   "metadata": {},
   "outputs": [
    {
     "data": {
      "text/html": [
       "<div>\n",
       "<style scoped>\n",
       "    .dataframe tbody tr th:only-of-type {\n",
       "        vertical-align: middle;\n",
       "    }\n",
       "\n",
       "    .dataframe tbody tr th {\n",
       "        vertical-align: top;\n",
       "    }\n",
       "\n",
       "    .dataframe thead th {\n",
       "        text-align: right;\n",
       "    }\n",
       "</style>\n",
       "<table border=\"1\" class=\"dataframe\">\n",
       "  <thead>\n",
       "    <tr style=\"text-align: right;\">\n",
       "      <th></th>\n",
       "      <th>restaurant</th>\n",
       "      <th>restaurant_api</th>\n",
       "      <th>address</th>\n",
       "      <th>latitude</th>\n",
       "      <th>longitude</th>\n",
       "    </tr>\n",
       "  </thead>\n",
       "  <tbody>\n",
       "    <tr>\n",
       "      <th>0</th>\n",
       "      <td>Daily Provisions</td>\n",
       "      <td>Daily Provisions - Brookfield Place</td>\n",
       "      <td>225 Liberty St #253, New York, NY 10280</td>\n",
       "      <td>40.712619</td>\n",
       "      <td>-74.015439</td>\n",
       "    </tr>\n",
       "    <tr>\n",
       "      <th>1</th>\n",
       "      <td>Daily Provisions</td>\n",
       "      <td>Daily Provisions - West Village</td>\n",
       "      <td>29 Bedford St, New York, NY 10014</td>\n",
       "      <td>40.729219</td>\n",
       "      <td>-74.003799</td>\n",
       "    </tr>\n",
       "    <tr>\n",
       "      <th>2</th>\n",
       "      <td>Daily Provisions</td>\n",
       "      <td>Daily Provisions - Union Square</td>\n",
       "      <td>103 E 19th St, New York, NY 10003</td>\n",
       "      <td>40.737663</td>\n",
       "      <td>-73.987608</td>\n",
       "    </tr>\n",
       "    <tr>\n",
       "      <th>3</th>\n",
       "      <td>Daily Provisions</td>\n",
       "      <td>Daily Provisions - Cobble Hill</td>\n",
       "      <td>151 Court St, Brooklyn, NY 11201</td>\n",
       "      <td>40.689008</td>\n",
       "      <td>-73.992525</td>\n",
       "    </tr>\n",
       "    <tr>\n",
       "      <th>4</th>\n",
       "      <td>Daily Provisions</td>\n",
       "      <td>Daily Provisions</td>\n",
       "      <td>132 Bay St, Jersey City, NJ 07302</td>\n",
       "      <td>40.720859</td>\n",
       "      <td>-74.038890</td>\n",
       "    </tr>\n",
       "    <tr>\n",
       "      <th>5</th>\n",
       "      <td>Daily Provisions</td>\n",
       "      <td>Daily Provisions - Manhattan West</td>\n",
       "      <td>440 W 33rd St Suite 90, New York, NY 10001</td>\n",
       "      <td>40.752579</td>\n",
       "      <td>-73.998898</td>\n",
       "    </tr>\n",
       "    <tr>\n",
       "      <th>6</th>\n",
       "      <td>Daily Provisions</td>\n",
       "      <td>Daily Provisions – Rockefeller Center</td>\n",
       "      <td>30 Rockefeller Center Unit CO-03, New York, NY...</td>\n",
       "      <td>40.759375</td>\n",
       "      <td>-73.979973</td>\n",
       "    </tr>\n",
       "    <tr>\n",
       "      <th>7</th>\n",
       "      <td>Daily Provisions</td>\n",
       "      <td>Daily Provisions</td>\n",
       "      <td>375 Amsterdam Ave, New York, NY 10024</td>\n",
       "      <td>40.782230</td>\n",
       "      <td>-73.978635</td>\n",
       "    </tr>\n",
       "    <tr>\n",
       "      <th>8</th>\n",
       "      <td>Daily Provisions</td>\n",
       "      <td>Daily Provisions - Upper East Side</td>\n",
       "      <td>1381 Madison Ave, New York, NY 10029</td>\n",
       "      <td>40.787312</td>\n",
       "      <td>-73.953878</td>\n",
       "    </tr>\n",
       "    <tr>\n",
       "      <th>9</th>\n",
       "      <td>Little Egg</td>\n",
       "      <td>Little Egg</td>\n",
       "      <td>657 Washington Ave, Brooklyn, NY 11238</td>\n",
       "      <td>40.677707</td>\n",
       "      <td>-73.963527</td>\n",
       "    </tr>\n",
       "    <tr>\n",
       "      <th>10</th>\n",
       "      <td>Mama’s Too!</td>\n",
       "      <td>Mama's TOO! Pizzeria West Village</td>\n",
       "      <td>325 Bleecker St, New York, NY 10014</td>\n",
       "      <td>40.733289</td>\n",
       "      <td>-74.004044</td>\n",
       "    </tr>\n",
       "    <tr>\n",
       "      <th>11</th>\n",
       "      <td>Mama’s Too!</td>\n",
       "      <td>Mama's TOO! Upper West Side</td>\n",
       "      <td>2750 Broadway, New York, NY 10025</td>\n",
       "      <td>40.800832</td>\n",
       "      <td>-73.967590</td>\n",
       "    </tr>\n",
       "    <tr>\n",
       "      <th>12</th>\n",
       "      <td>Regina’s Grocery</td>\n",
       "      <td>Regina's Grocery</td>\n",
       "      <td>27 Orchard St, New York, NY 10002</td>\n",
       "      <td>40.715480</td>\n",
       "      <td>-73.991696</td>\n",
       "    </tr>\n",
       "    <tr>\n",
       "      <th>13</th>\n",
       "      <td>Regina’s Grocery</td>\n",
       "      <td>Regina's Grocery - Mulberry</td>\n",
       "      <td>241 Mulberry St, New York, NY 10012</td>\n",
       "      <td>40.722895</td>\n",
       "      <td>-73.996146</td>\n",
       "    </tr>\n",
       "    <tr>\n",
       "      <th>14</th>\n",
       "      <td>Regina’s Grocery</td>\n",
       "      <td>Regina’s Grocery</td>\n",
       "      <td>1063-1065 Bedford Ave, Brooklyn, NY 11216</td>\n",
       "      <td>40.687530</td>\n",
       "      <td>-73.954427</td>\n",
       "    </tr>\n",
       "    <tr>\n",
       "      <th>15</th>\n",
       "      <td>Regina’s Grocery</td>\n",
       "      <td>Regina's Grocery UES</td>\n",
       "      <td>300 E 88th St, New York, NY 10128</td>\n",
       "      <td>40.778994</td>\n",
       "      <td>-73.950654</td>\n",
       "    </tr>\n",
       "    <tr>\n",
       "      <th>16</th>\n",
       "      <td>Alidoro</td>\n",
       "      <td>ALIDORO</td>\n",
       "      <td>105 Sullivan St, New York, NY 10012</td>\n",
       "      <td>40.725679</td>\n",
       "      <td>-74.002775</td>\n",
       "    </tr>\n",
       "    <tr>\n",
       "      <th>17</th>\n",
       "      <td>Alidoro</td>\n",
       "      <td>ALIDORO</td>\n",
       "      <td>18 E 39th St, New York, NY 10016</td>\n",
       "      <td>40.750940</td>\n",
       "      <td>-73.981276</td>\n",
       "    </tr>\n",
       "    <tr>\n",
       "      <th>18</th>\n",
       "      <td>Alidoro</td>\n",
       "      <td>ALIDORO</td>\n",
       "      <td>383 W 31st St, New York, NY 10001</td>\n",
       "      <td>40.751383</td>\n",
       "      <td>-73.996895</td>\n",
       "    </tr>\n",
       "    <tr>\n",
       "      <th>19</th>\n",
       "      <td>Alidoro</td>\n",
       "      <td>ALIDORO</td>\n",
       "      <td>1 Rockefeller Plaza Concourse level, New York,...</td>\n",
       "      <td>40.758063</td>\n",
       "      <td>-73.978854</td>\n",
       "    </tr>\n",
       "    <tr>\n",
       "      <th>20</th>\n",
       "      <td>Alidoro</td>\n",
       "      <td>ALIDORO</td>\n",
       "      <td>601 Lexington Ave, New York, NY 10022</td>\n",
       "      <td>40.758362</td>\n",
       "      <td>-73.969822</td>\n",
       "    </tr>\n",
       "    <tr>\n",
       "      <th>21</th>\n",
       "      <td>Alidoro</td>\n",
       "      <td>Alidoro</td>\n",
       "      <td>348 Bowery, New York, NY 10012</td>\n",
       "      <td>40.726650</td>\n",
       "      <td>-73.992002</td>\n",
       "    </tr>\n",
       "    <tr>\n",
       "      <th>22</th>\n",
       "      <td>Court Street Grocers</td>\n",
       "      <td>Court Street Grocers</td>\n",
       "      <td>540 LaGuardia Pl, New York, NY 10012</td>\n",
       "      <td>40.728906</td>\n",
       "      <td>-73.998612</td>\n",
       "    </tr>\n",
       "    <tr>\n",
       "      <th>23</th>\n",
       "      <td>Court Street Grocers</td>\n",
       "      <td>Court Street Grocers</td>\n",
       "      <td>485 Court St, Brooklyn, NY 11231</td>\n",
       "      <td>40.676215</td>\n",
       "      <td>-73.998619</td>\n",
       "    </tr>\n",
       "    <tr>\n",
       "      <th>24</th>\n",
       "      <td>Court Street Grocers</td>\n",
       "      <td>Court Street Grocers Williamsburg</td>\n",
       "      <td>378 Metropolitan Ave, Brooklyn, NY 11211</td>\n",
       "      <td>40.713900</td>\n",
       "      <td>-73.955637</td>\n",
       "    </tr>\n",
       "    <tr>\n",
       "      <th>25</th>\n",
       "      <td>Milano Market</td>\n",
       "      <td>Milano Market</td>\n",
       "      <td>1582 3rd Ave, New York, NY 10128</td>\n",
       "      <td>40.780760</td>\n",
       "      <td>-73.952867</td>\n",
       "    </tr>\n",
       "    <tr>\n",
       "      <th>26</th>\n",
       "      <td>Milano Market</td>\n",
       "      <td>Milano Market Westside</td>\n",
       "      <td>2892 Broadway, New York, NY 10025</td>\n",
       "      <td>40.805733</td>\n",
       "      <td>-73.965240</td>\n",
       "    </tr>\n",
       "    <tr>\n",
       "      <th>27</th>\n",
       "      <td>Xi’an Famous Foods</td>\n",
       "      <td>Xi'an Famous Foods 西安名吃 | Chinatown</td>\n",
       "      <td>45 Bayard St, New York, NY 10013</td>\n",
       "      <td>40.715091</td>\n",
       "      <td>-73.997350</td>\n",
       "    </tr>\n",
       "    <tr>\n",
       "      <th>28</th>\n",
       "      <td>Xi’an Famous Foods</td>\n",
       "      <td>Xi'an Famous Foods 西安名吃 | Financial District</td>\n",
       "      <td>8 Liberty Pl, New York, NY 10038</td>\n",
       "      <td>40.709193</td>\n",
       "      <td>-74.009347</td>\n",
       "    </tr>\n",
       "    <tr>\n",
       "      <th>29</th>\n",
       "      <td>Xi’an Famous Foods</td>\n",
       "      <td>Xi'an Famous Foods 西安名吃 | Union Square</td>\n",
       "      <td>139 4th Ave, New York, NY 10003</td>\n",
       "      <td>40.733727</td>\n",
       "      <td>-73.989669</td>\n",
       "    </tr>\n",
       "    <tr>\n",
       "      <th>30</th>\n",
       "      <td>Xi’an Famous Foods</td>\n",
       "      <td>Xi'an Famous Foods 西安名吃 | Downtown Brooklyn</td>\n",
       "      <td>54 Willoughby St, Brooklyn, NY 11201</td>\n",
       "      <td>40.692072</td>\n",
       "      <td>-73.986705</td>\n",
       "    </tr>\n",
       "    <tr>\n",
       "      <th>31</th>\n",
       "      <td>Xi’an Famous Foods</td>\n",
       "      <td>Xi'an Famous Foods 西安名吃 | Chelsea</td>\n",
       "      <td>96 8th Ave, New York, NY 10011</td>\n",
       "      <td>40.740161</td>\n",
       "      <td>-74.001920</td>\n",
       "    </tr>\n",
       "    <tr>\n",
       "      <th>32</th>\n",
       "      <td>Xi’an Famous Foods</td>\n",
       "      <td>Xi'an Famous Foods 西安名吃 | Greenpoint</td>\n",
       "      <td>648 Manhattan Ave, Brooklyn, NY 11222</td>\n",
       "      <td>40.724353</td>\n",
       "      <td>-73.950902</td>\n",
       "    </tr>\n",
       "    <tr>\n",
       "      <th>33</th>\n",
       "      <td>Xi’an Famous Foods</td>\n",
       "      <td>Xi'an Famous Foods 西安名吃 | Williamsburg</td>\n",
       "      <td>209 N 8th St, Brooklyn, NY 11211</td>\n",
       "      <td>40.717420</td>\n",
       "      <td>-73.955155</td>\n",
       "    </tr>\n",
       "    <tr>\n",
       "      <th>38</th>\n",
       "      <td>Xi’an Famous Foods</td>\n",
       "      <td>Xi'an Famous Foods 西安名吃 | Midtown 45th St.</td>\n",
       "      <td>60 W 45th St, New York, NY 10036</td>\n",
       "      <td>40.756300</td>\n",
       "      <td>-73.981884</td>\n",
       "    </tr>\n",
       "    <tr>\n",
       "      <th>39</th>\n",
       "      <td>Xi’an Famous Foods</td>\n",
       "      <td>Xi'an Famous Foods 西安名吃 | Hunter's Point LIC</td>\n",
       "      <td>12-15 Jackson Ave, Queens, NY 11101</td>\n",
       "      <td>40.743932</td>\n",
       "      <td>-73.950513</td>\n",
       "    </tr>\n",
       "    <tr>\n",
       "      <th>40</th>\n",
       "      <td>Xi’an Famous Foods</td>\n",
       "      <td>Xi'an Famous Foods 西安名吃 (Takeout &amp; Delivery ON...</td>\n",
       "      <td>245 W 46th St, New York, NY 10036</td>\n",
       "      <td>40.759641</td>\n",
       "      <td>-73.987011</td>\n",
       "    </tr>\n",
       "    <tr>\n",
       "      <th>41</th>\n",
       "      <td>Xi’an Famous Foods</td>\n",
       "      <td>Xi'an Famous Foods 西安名吃 | Court Square LIC</td>\n",
       "      <td>26-19 Jackson Ave, Long Island City, NY 11101</td>\n",
       "      <td>40.747640</td>\n",
       "      <td>-73.941829</td>\n",
       "    </tr>\n",
       "    <tr>\n",
       "      <th>42</th>\n",
       "      <td>Xi’an Famous Foods</td>\n",
       "      <td>Xi'an Famous Foods 西安名吃 | Upper East Side</td>\n",
       "      <td>328 E 78th St, New York, NY 10075</td>\n",
       "      <td>40.772097</td>\n",
       "      <td>-73.954450</td>\n",
       "    </tr>\n",
       "    <tr>\n",
       "      <th>44</th>\n",
       "      <td>Xi’an Famous Foods</td>\n",
       "      <td>Xi'an Famous Foods 西安名吃 | 74th&amp;Amsterdam UWS</td>\n",
       "      <td>309 Amsterdam Ave, New York, NY 10023</td>\n",
       "      <td>40.780120</td>\n",
       "      <td>-73.980185</td>\n",
       "    </tr>\n",
       "    <tr>\n",
       "      <th>45</th>\n",
       "      <td>Xi’an Famous Foods</td>\n",
       "      <td>Changle Xin Fan Zhuang</td>\n",
       "      <td>36 Eldridge St, New York, NY 10002</td>\n",
       "      <td>40.715638</td>\n",
       "      <td>-73.993148</td>\n",
       "    </tr>\n",
       "    <tr>\n",
       "      <th>47</th>\n",
       "      <td>Datz Deli</td>\n",
       "      <td>Datz Deli</td>\n",
       "      <td>69 Clinton St, New York, NY 10002</td>\n",
       "      <td>40.719363</td>\n",
       "      <td>-73.985112</td>\n",
       "    </tr>\n",
       "    <tr>\n",
       "      <th>48</th>\n",
       "      <td>Datz Deli</td>\n",
       "      <td>Datz Deli</td>\n",
       "      <td>190-01 Hollis Ave, Hollis, NY 11423</td>\n",
       "      <td>40.709609</td>\n",
       "      <td>-73.767578</td>\n",
       "    </tr>\n",
       "    <tr>\n",
       "      <th>49</th>\n",
       "      <td>Datz Deli</td>\n",
       "      <td>Datz Deli</td>\n",
       "      <td>245 W 46th St, New York, NY 10036</td>\n",
       "      <td>40.759641</td>\n",
       "      <td>-73.987011</td>\n",
       "    </tr>\n",
       "    <tr>\n",
       "      <th>50</th>\n",
       "      <td>Rowdy Rooster</td>\n",
       "      <td>Rowdy Rooster - East Village</td>\n",
       "      <td>149 1st Ave., New York, NY 10003</td>\n",
       "      <td>40.728452</td>\n",
       "      <td>-73.984995</td>\n",
       "    </tr>\n",
       "  </tbody>\n",
       "</table>\n",
       "</div>"
      ],
      "text/plain": [
       "              restaurant                                     restaurant_api  \\\n",
       "0       Daily Provisions                Daily Provisions - Brookfield Place   \n",
       "1       Daily Provisions                    Daily Provisions - West Village   \n",
       "2       Daily Provisions                    Daily Provisions - Union Square   \n",
       "3       Daily Provisions                     Daily Provisions - Cobble Hill   \n",
       "4       Daily Provisions                                   Daily Provisions   \n",
       "5       Daily Provisions                  Daily Provisions - Manhattan West   \n",
       "6       Daily Provisions              Daily Provisions – Rockefeller Center   \n",
       "7       Daily Provisions                                   Daily Provisions   \n",
       "8       Daily Provisions                 Daily Provisions - Upper East Side   \n",
       "9             Little Egg                                         Little Egg   \n",
       "10           Mama’s Too!                  Mama's TOO! Pizzeria West Village   \n",
       "11           Mama’s Too!                        Mama's TOO! Upper West Side   \n",
       "12      Regina’s Grocery                                   Regina's Grocery   \n",
       "13      Regina’s Grocery                        Regina's Grocery - Mulberry   \n",
       "14      Regina’s Grocery                                   Regina’s Grocery   \n",
       "15      Regina’s Grocery                               Regina's Grocery UES   \n",
       "16               Alidoro                                            ALIDORO   \n",
       "17               Alidoro                                            ALIDORO   \n",
       "18               Alidoro                                            ALIDORO   \n",
       "19               Alidoro                                            ALIDORO   \n",
       "20               Alidoro                                            ALIDORO   \n",
       "21               Alidoro                                            Alidoro   \n",
       "22  Court Street Grocers                               Court Street Grocers   \n",
       "23  Court Street Grocers                               Court Street Grocers   \n",
       "24  Court Street Grocers                  Court Street Grocers Williamsburg   \n",
       "25         Milano Market                                      Milano Market   \n",
       "26         Milano Market                             Milano Market Westside   \n",
       "27    Xi’an Famous Foods                Xi'an Famous Foods 西安名吃 | Chinatown   \n",
       "28    Xi’an Famous Foods       Xi'an Famous Foods 西安名吃 | Financial District   \n",
       "29    Xi’an Famous Foods             Xi'an Famous Foods 西安名吃 | Union Square   \n",
       "30    Xi’an Famous Foods        Xi'an Famous Foods 西安名吃 | Downtown Brooklyn   \n",
       "31    Xi’an Famous Foods                  Xi'an Famous Foods 西安名吃 | Chelsea   \n",
       "32    Xi’an Famous Foods               Xi'an Famous Foods 西安名吃 | Greenpoint   \n",
       "33    Xi’an Famous Foods             Xi'an Famous Foods 西安名吃 | Williamsburg   \n",
       "38    Xi’an Famous Foods         Xi'an Famous Foods 西安名吃 | Midtown 45th St.   \n",
       "39    Xi’an Famous Foods       Xi'an Famous Foods 西安名吃 | Hunter's Point LIC   \n",
       "40    Xi’an Famous Foods  Xi'an Famous Foods 西安名吃 (Takeout & Delivery ON...   \n",
       "41    Xi’an Famous Foods         Xi'an Famous Foods 西安名吃 | Court Square LIC   \n",
       "42    Xi’an Famous Foods          Xi'an Famous Foods 西安名吃 | Upper East Side   \n",
       "44    Xi’an Famous Foods       Xi'an Famous Foods 西安名吃 | 74th&Amsterdam UWS   \n",
       "45    Xi’an Famous Foods                             Changle Xin Fan Zhuang   \n",
       "47             Datz Deli                                          Datz Deli   \n",
       "48             Datz Deli                                          Datz Deli   \n",
       "49             Datz Deli                                          Datz Deli   \n",
       "50         Rowdy Rooster                       Rowdy Rooster - East Village   \n",
       "\n",
       "                                              address   latitude  longitude  \n",
       "0             225 Liberty St #253, New York, NY 10280  40.712619 -74.015439  \n",
       "1                   29 Bedford St, New York, NY 10014  40.729219 -74.003799  \n",
       "2                   103 E 19th St, New York, NY 10003  40.737663 -73.987608  \n",
       "3                    151 Court St, Brooklyn, NY 11201  40.689008 -73.992525  \n",
       "4                   132 Bay St, Jersey City, NJ 07302  40.720859 -74.038890  \n",
       "5          440 W 33rd St Suite 90, New York, NY 10001  40.752579 -73.998898  \n",
       "6   30 Rockefeller Center Unit CO-03, New York, NY...  40.759375 -73.979973  \n",
       "7               375 Amsterdam Ave, New York, NY 10024  40.782230 -73.978635  \n",
       "8                1381 Madison Ave, New York, NY 10029  40.787312 -73.953878  \n",
       "9              657 Washington Ave, Brooklyn, NY 11238  40.677707 -73.963527  \n",
       "10                325 Bleecker St, New York, NY 10014  40.733289 -74.004044  \n",
       "11                  2750 Broadway, New York, NY 10025  40.800832 -73.967590  \n",
       "12                  27 Orchard St, New York, NY 10002  40.715480 -73.991696  \n",
       "13                241 Mulberry St, New York, NY 10012  40.722895 -73.996146  \n",
       "14          1063-1065 Bedford Ave, Brooklyn, NY 11216  40.687530 -73.954427  \n",
       "15                  300 E 88th St, New York, NY 10128  40.778994 -73.950654  \n",
       "16                105 Sullivan St, New York, NY 10012  40.725679 -74.002775  \n",
       "17                   18 E 39th St, New York, NY 10016  40.750940 -73.981276  \n",
       "18                  383 W 31st St, New York, NY 10001  40.751383 -73.996895  \n",
       "19  1 Rockefeller Plaza Concourse level, New York,...  40.758063 -73.978854  \n",
       "20              601 Lexington Ave, New York, NY 10022  40.758362 -73.969822  \n",
       "21                     348 Bowery, New York, NY 10012  40.726650 -73.992002  \n",
       "22               540 LaGuardia Pl, New York, NY 10012  40.728906 -73.998612  \n",
       "23                   485 Court St, Brooklyn, NY 11231  40.676215 -73.998619  \n",
       "24           378 Metropolitan Ave, Brooklyn, NY 11211  40.713900 -73.955637  \n",
       "25                   1582 3rd Ave, New York, NY 10128  40.780760 -73.952867  \n",
       "26                  2892 Broadway, New York, NY 10025  40.805733 -73.965240  \n",
       "27                   45 Bayard St, New York, NY 10013  40.715091 -73.997350  \n",
       "28                   8 Liberty Pl, New York, NY 10038  40.709193 -74.009347  \n",
       "29                    139 4th Ave, New York, NY 10003  40.733727 -73.989669  \n",
       "30               54 Willoughby St, Brooklyn, NY 11201  40.692072 -73.986705  \n",
       "31                     96 8th Ave, New York, NY 10011  40.740161 -74.001920  \n",
       "32              648 Manhattan Ave, Brooklyn, NY 11222  40.724353 -73.950902  \n",
       "33                   209 N 8th St, Brooklyn, NY 11211  40.717420 -73.955155  \n",
       "38                   60 W 45th St, New York, NY 10036  40.756300 -73.981884  \n",
       "39                12-15 Jackson Ave, Queens, NY 11101  40.743932 -73.950513  \n",
       "40                  245 W 46th St, New York, NY 10036  40.759641 -73.987011  \n",
       "41      26-19 Jackson Ave, Long Island City, NY 11101  40.747640 -73.941829  \n",
       "42                  328 E 78th St, New York, NY 10075  40.772097 -73.954450  \n",
       "44              309 Amsterdam Ave, New York, NY 10023  40.780120 -73.980185  \n",
       "45                 36 Eldridge St, New York, NY 10002  40.715638 -73.993148  \n",
       "47                  69 Clinton St, New York, NY 10002  40.719363 -73.985112  \n",
       "48                190-01 Hollis Ave, Hollis, NY 11423  40.709609 -73.767578  \n",
       "49                  245 W 46th St, New York, NY 10036  40.759641 -73.987011  \n",
       "50                   149 1st Ave., New York, NY 10003  40.728452 -73.984995  "
      ]
     },
     "execution_count": 278,
     "metadata": {},
     "output_type": "execute_result"
    }
   ],
   "source": [
    "geo_df_bad_results_filtered[['restaurant', 'restaurant_api', 'address', 'latitude', 'longitude']]"
   ]
  },
  {
   "cell_type": "code",
   "execution_count": 279,
   "metadata": {},
   "outputs": [
    {
     "data": {
      "text/plain": [
       "np.int64(0)"
      ]
     },
     "execution_count": 279,
     "metadata": {},
     "output_type": "execute_result"
    }
   ],
   "source": [
    "geo_df_bad_results_filtered.duplicated(subset=['restaurant', 'address']).sum()\n"
   ]
  },
  {
   "cell_type": "code",
   "execution_count": 280,
   "metadata": {},
   "outputs": [
    {
     "data": {
      "text/plain": [
       "(45, 11)"
      ]
     },
     "execution_count": 280,
     "metadata": {},
     "output_type": "execute_result"
    }
   ],
   "source": [
    "geo_df_bad_results_filtered.shape"
   ]
  },
  {
   "cell_type": "code",
   "execution_count": 281,
   "metadata": {},
   "outputs": [
    {
     "data": {
      "text/plain": [
       "np.int64(0)"
      ]
     },
     "execution_count": 281,
     "metadata": {},
     "output_type": "execute_result"
    }
   ],
   "source": [
    "geo_df_ok.duplicated(subset=['sandwich_name', 'address']).sum()"
   ]
  },
  {
   "cell_type": "code",
   "execution_count": 282,
   "metadata": {},
   "outputs": [
    {
     "data": {
      "text/plain": [
       "(46, 12)"
      ]
     },
     "execution_count": 282,
     "metadata": {},
     "output_type": "execute_result"
    }
   ],
   "source": [
    "geo_df_ok.shape"
   ]
  },
  {
   "cell_type": "code",
   "execution_count": 283,
   "metadata": {},
   "outputs": [],
   "source": [
    "# the only col i don't want is \"meta_data\"\n",
    "\n",
    "cols_i_want = [\n",
    "    'sandwich_name',\n",
    "    'restaurant',  \n",
    "    'description', \n",
    "    'image_url', \n",
    "    'website', \n",
    "    'price', \n",
    "    'address', \n",
    "    'formatted_address', \n",
    "    'latitude', \n",
    "    'longitude'               \n",
    "]"
   ]
  },
  {
   "cell_type": "code",
   "execution_count": 284,
   "metadata": {},
   "outputs": [],
   "source": [
    "# geo_df_ok.columns"
   ]
  },
  {
   "cell_type": "code",
   "execution_count": 285,
   "metadata": {},
   "outputs": [],
   "source": [
    "# geo_df_bad_results_filtered.columns"
   ]
  },
  {
   "cell_type": "code",
   "execution_count": 286,
   "metadata": {},
   "outputs": [],
   "source": [
    "# geo_df_bad_results_filtered.head()"
   ]
  },
  {
   "cell_type": "code",
   "execution_count": 287,
   "metadata": {},
   "outputs": [],
   "source": [
    "# geo_df_ok.head()"
   ]
  },
  {
   "cell_type": "code",
   "execution_count": 288,
   "metadata": {},
   "outputs": [],
   "source": [
    "geo_cat_df = pd.concat([geo_df_ok[cols_i_want], geo_df_bad_results_filtered[cols_i_want]])"
   ]
  },
  {
   "cell_type": "code",
   "execution_count": 289,
   "metadata": {},
   "outputs": [
    {
     "data": {
      "text/plain": [
       "(91, 10)"
      ]
     },
     "execution_count": 289,
     "metadata": {},
     "output_type": "execute_result"
    }
   ],
   "source": [
    "geo_cat_df.shape"
   ]
  },
  {
   "cell_type": "code",
   "execution_count": 291,
   "metadata": {},
   "outputs": [
    {
     "data": {
      "text/plain": [
       "91"
      ]
     },
     "execution_count": 291,
     "metadata": {},
     "output_type": "execute_result"
    }
   ],
   "source": [
    "geo_df_bad_results_filtered.shape[0] + geo_df_ok.shape[0]"
   ]
  },
  {
   "cell_type": "code",
   "execution_count": 292,
   "metadata": {},
   "outputs": [
    {
     "data": {
      "text/plain": [
       "np.int64(0)"
      ]
     },
     "execution_count": 292,
     "metadata": {},
     "output_type": "execute_result"
    }
   ],
   "source": [
    "geo_cat_df.duplicated(subset=['sandwich_name', 'address']).sum()"
   ]
  },
  {
   "cell_type": "markdown",
   "metadata": {},
   "source": [
    "## Create Interactive Google Map"
   ]
  },
  {
   "cell_type": "markdown",
   "metadata": {},
   "source": [
    "**Task:** \n",
    "\n",
    "Generate an HTML template that displays an interactive Google Map with custom sandwich markers. When a marker is clicked, a Bootstrap modal should appear, showing sandwich details (restaurant name, sandwich name, price, description, image, location, website link, and a \"Get Directions\" link).\n",
    "\n",
    "**Requirements:**\n",
    "\n",
    "- Bootstrap for styling, including a fixed-top navbar and a fixed-bottom footer.\n",
    "- Google Maps API for interactive map functionality.\n",
    "- Custom Markers: Each marker should use a sandwich image as its icon.\n",
    "- Bootstrap Modal: The modal should display:\n",
    "   - Sandwich Name\n",
    "   - Restaurant Name\n",
    "   - Price\n",
    "   - Description\n",
    "   - Sandwich Image\n",
    "   - Restaurant Location\n",
    "   - Clickable Website Link\n",
    "   - \"Get Directions\" link to Google Maps\n",
    "\n",
    "**Data Structure:** \n",
    "\n",
    "The list of sandwich locations should be stored in an array of JavaScript objects. Each object should include:\n",
    "\n",
    "{  \n",
    "   'sandwich_name': 'Chorizo egg sandwich',  \n",
    "   'restaurant': 'C&B',  \n",
    "   'lat': 40.7250765,  \n",
    "   'lng': -73.9816951,  \n",
    "   'img': 'https://static01.nytimes.com/newsgraphics/2024-05-21-sandwich/_images/breakfast2-@@-300.webp',  \n",
    "   'address': '178 East Seventh Street (Avenue B)',  \n",
    "   'price': 13,  \n",
    "   'description': 'Many people wouldn’t guess that C & B, .....',  \n",
    "   'website': 'candbnyc.com'  \n",
    "}\n",
    "\n",
    "**Event Handling:** \n",
    "\n",
    "Clicking a marker should populate the modal with data from the corresponding object and display the modal.\n",
    "\n",
    "**Additional Styling & Functionality:**\n",
    "\n",
    "- The map should take up 100% width and full viewport height (100vh).\n",
    "- The modal should be centered and mobile-friendly (modal-lg).\n",
    "- Use Bootstrap utility classes for alignment and spacing.\n",
    "- Include jQuery and Bootstrap scripts for modal functionality.\n",
    "\n",
    "**Expected Output:** \n",
    "\n",
    "A full HTML, CSS, and JavaScript template that meets all the above specifications.\n"
   ]
  },
  {
   "cell_type": "markdown",
   "metadata": {},
   "source": [
    "#### print python dictionaries for google map"
   ]
  },
  {
   "cell_type": "code",
   "execution_count": 294,
   "metadata": {},
   "outputs": [
    {
     "data": {
      "text/plain": [
       "Index(['sandwich_name', 'restaurant', 'description', 'image_url', 'website',\n",
       "       'price', 'address', 'formatted_address', 'latitude', 'longitude'],\n",
       "      dtype='object')"
      ]
     },
     "execution_count": 294,
     "metadata": {},
     "output_type": "execute_result"
    }
   ],
   "source": [
    "geo_cat_df.columns"
   ]
  },
  {
   "cell_type": "code",
   "execution_count": 296,
   "metadata": {},
   "outputs": [],
   "source": [
    "locations = []\n",
    "for index, row in geo_cat_df.iterrows():\n",
    "    location = {\n",
    "        'sandwich_name': row['sandwich_name'],\n",
    "        'restaurant': row['restaurant'],\n",
    "        'lat': row['latitude'],\n",
    "        'lng': row['longitude'],\n",
    "        'img': row['image_url'],\n",
    "        'address': row['address'],\n",
    "        'price': row['price'],\n",
    "        'description': row['description'],\n",
    "        'website': row['website']\n",
    "    }\n",
    "    locations.append(location)"
   ]
  },
  {
   "cell_type": "code",
   "execution_count": 298,
   "metadata": {},
   "outputs": [],
   "source": [
    "# locations "
   ]
  },
  {
   "cell_type": "markdown",
   "metadata": {},
   "source": [
    "## Remove backgrounds from images\n",
    "\n",
    "This was a pita pit of despair. ChatGPT led my to trying several python packages I could not install. I updated my python install. Still, nothing. That is until I discovered the image pig api on reddit.\n",
    "\n",
    "https://imagepig.com/docs/#cutout\n",
    "\n",
    "*Prompt 0 Chain-of-Thought*\n",
    "\n",
    "I need to use the api below to remove the background from images. The image URLs are stored in a df column.\n",
    "\n",
    "```python\n",
    "from imagepig import ImagePig\n",
    "\n",
    "imagepig = ImagePig(\"your-api-key\")\n",
    "result = imagepig.cutout(\"https://imagepig.com/static/street.jpeg\")\n",
    "result.save(\"cutout.png\")\n",
    "```\n",
    "\n",
    "*Prompt 1 Chain-of-Thought*\n",
    "\n",
    "Write the images to an 'output_dir'; check if it exists first, if not create it\n",
    "\n",
    "\n",
    "*Prompt 2 Chain-of-Thought*\n",
    "\n",
    "Name the image after the df['sandwich_name'] column\n",
    "  \n",
    "  \n",
    "*Prompt 3 Chain-of-Thought*\n",
    "\n",
    "There is a rate limit, i can only submit two images per minute\n",
    "\n"
   ]
  },
  {
   "cell_type": "code",
   "execution_count": 313,
   "metadata": {},
   "outputs": [
    {
     "name": "stdout",
     "output_type": "stream",
     "text": [
      "Processed and saved: chorizo_egg_sandwich.png\n",
      "Processed and saved: smoked_salmon_sandwich.png\n",
      "Rate limit reached. Sleeping for 60 seconds...\n",
      "Processed and saved: becl.png\n",
      "Processed and saved: the_newhouse.png\n",
      "Rate limit reached. Sleeping for 60 seconds...\n",
      "Processed and saved: shake_shack_breakfast_sandwich.png\n",
      "Processed and saved: the_italian.png\n",
      "Rate limit reached. Sleeping for 60 seconds...\n",
      "Processed and saved: the_casa.png\n",
      "Processed and saved: egg_potato_and_cheese_hero.png\n",
      "Rate limit reached. Sleeping for 60 seconds...\n",
      "Processed and saved: the_soho.png\n",
      "Processed and saved: the_bomb.png\n",
      "Rate limit reached. Sleeping for 60 seconds...\n",
      "Processed and saved: hlt.png\n",
      "Processed and saved: crispy_chickn.png\n",
      "Rate limit reached. Sleeping for 60 seconds...\n",
      "Processed and saved: scuttlebutt.png\n",
      "Processed and saved: collard_greens_sandwich_on_focaccia.png\n",
      "Rate limit reached. Sleeping for 60 seconds...\n",
      "Processed and saved: french_onion_sandwich.png\n",
      "Processed and saved: vegan_bbq_pork_bao_bun.png\n",
      "Rate limit reached. Sleeping for 60 seconds...\n",
      "Processed and saved: vegan_lobster_roll.png\n",
      "Processed and saved: pastrami_on_rye.png\n",
      "Rate limit reached. Sleeping for 60 seconds...\n",
      "Processed and saved: pastrami_egg_and_cheese.png\n",
      "Processed and saved: wagyu_pastrami_sando.png\n",
      "Rate limit reached. Sleeping for 60 seconds...\n",
      "Processed and saved: the_no_7.png\n",
      "Processed and saved: classic_bagel_and_lox.png\n",
      "Rate limit reached. Sleeping for 60 seconds...\n",
      "Processed and saved: chopped_cheese.png\n",
      "Processed and saved: the_governors_choice.png\n",
      "Rate limit reached. Sleeping for 60 seconds...\n",
      "Processed and saved: caviar_sandwich.png\n",
      "Processed and saved: roll-n-roast_beef.png\n",
      "Rate limit reached. Sleeping for 60 seconds...\n",
      "Processed and saved: do_it_for_johnny.png\n",
      "Processed and saved: chopped_salad_sandwich.png\n",
      "Rate limit reached. Sleeping for 60 seconds...\n",
      "Processed and saved: prosciutto__butter.png\n",
      "Processed and saved: porchettaboutit.png\n",
      "Rate limit reached. Sleeping for 60 seconds...\n",
      "Processed and saved: dill_party.png\n",
      "Processed and saved: chicken_katsu_club.png\n",
      "Rate limit reached. Sleeping for 60 seconds...\n",
      "Processed and saved: confit_tuna_melt.png\n",
      "Processed and saved: tuna_salad.png\n",
      "Rate limit reached. Sleeping for 60 seconds...\n",
      "Processed and saved: patty_melt.png\n",
      "Processed and saved: the_pho_sandwich.png\n",
      "Rate limit reached. Sleeping for 60 seconds...\n",
      "Processed and saved: shawarma_east_pita.png\n",
      "Processed and saved: bánh_mì_xiú_mai.png\n",
      "Rate limit reached. Sleeping for 60 seconds...\n",
      "Processed and saved: hot_ham_sandwich.png\n",
      "Processed and saved: short_rib_barbacoa_cemita.png\n",
      "Rate limit reached. Sleeping for 60 seconds...\n",
      "Processed and saved: cubano_sandwich.png\n",
      "Processed and saved: focaccia_sandwich.png\n",
      "Rate limit reached. Sleeping for 60 seconds...\n",
      "Processed and saved: chopped_chicharrón_and_brisket_sandwich.png\n",
      "Processed and saved: bulgogi_fatboy.png\n",
      "Rate limit reached. Sleeping for 60 seconds...\n",
      "Processed and saved: mille-feuille_pork_katsu_sando.png\n",
      "Processed and saved: char_siu_bk_rib.png\n",
      "Rate limit reached. Sleeping for 60 seconds...\n",
      "Processed and saved: the_lumberjack.png\n",
      "Processed and saved: the_lumberjack.png\n",
      "Rate limit reached. Sleeping for 60 seconds...\n",
      "Processed and saved: the_lumberjack.png\n",
      "Processed and saved: the_lumberjack.png\n",
      "Rate limit reached. Sleeping for 60 seconds...\n",
      "Processed and saved: the_lumberjack.png\n",
      "Processed and saved: the_lumberjack.png\n",
      "Rate limit reached. Sleeping for 60 seconds...\n",
      "Processed and saved: the_lumberjack.png\n",
      "Processed and saved: the_lumberjack.png\n",
      "Rate limit reached. Sleeping for 60 seconds...\n",
      "Processed and saved: the_lumberjack.png\n",
      "Processed and saved: egg_katsu_sando.png\n",
      "Rate limit reached. Sleeping for 60 seconds...\n",
      "Processed and saved: chicken_parm_hero.png\n",
      "Processed and saved: chicken_parm_hero.png\n",
      "Rate limit reached. Sleeping for 60 seconds...\n",
      "Processed and saved: uncle_rocco.png\n",
      "Processed and saved: uncle_rocco.png\n",
      "Rate limit reached. Sleeping for 60 seconds...\n",
      "Processed and saved: uncle_rocco.png\n",
      "Processed and saved: uncle_rocco.png\n",
      "Rate limit reached. Sleeping for 60 seconds...\n",
      "Processed and saved: michelangelo.png\n",
      "Processed and saved: michelangelo.png\n",
      "Rate limit reached. Sleeping for 60 seconds...\n",
      "Processed and saved: michelangelo.png\n",
      "Processed and saved: michelangelo.png\n",
      "Rate limit reached. Sleeping for 60 seconds...\n",
      "Processed and saved: michelangelo.png\n",
      "Processed and saved: michelangelo.png\n",
      "Rate limit reached. Sleeping for 60 seconds...\n",
      "Processed and saved: michelangelo.png\n",
      "Processed and saved: veg-italian_sub.png\n",
      "Rate limit reached. Sleeping for 60 seconds...\n",
      "Processed and saved: veg-italian_sub.png\n",
      "Processed and saved: veg-italian_sub.png\n",
      "Rate limit reached. Sleeping for 60 seconds...\n",
      "Processed and saved: chicken_caesar_wrap.png\n",
      "Processed and saved: chicken_caesar_wrap.png\n",
      "Rate limit reached. Sleeping for 60 seconds...\n",
      "Processed and saved: spicy_cumin_lamb_burger.png\n",
      "Processed and saved: spicy_cumin_lamb_burger.png\n",
      "Rate limit reached. Sleeping for 60 seconds...\n",
      "Processed and saved: spicy_cumin_lamb_burger.png\n",
      "Processed and saved: spicy_cumin_lamb_burger.png\n",
      "Rate limit reached. Sleeping for 60 seconds...\n",
      "Processed and saved: spicy_cumin_lamb_burger.png\n",
      "Processed and saved: spicy_cumin_lamb_burger.png\n",
      "Rate limit reached. Sleeping for 60 seconds...\n",
      "Processed and saved: spicy_cumin_lamb_burger.png\n",
      "Processed and saved: spicy_cumin_lamb_burger.png\n",
      "Rate limit reached. Sleeping for 60 seconds...\n",
      "Processed and saved: spicy_cumin_lamb_burger.png\n",
      "Processed and saved: spicy_cumin_lamb_burger.png\n",
      "Rate limit reached. Sleeping for 60 seconds...\n",
      "Processed and saved: spicy_cumin_lamb_burger.png\n",
      "Processed and saved: spicy_cumin_lamb_burger.png\n",
      "Rate limit reached. Sleeping for 60 seconds...\n",
      "Processed and saved: spicy_cumin_lamb_burger.png\n",
      "Processed and saved: oxtail_macpatty.png\n",
      "Rate limit reached. Sleeping for 60 seconds...\n",
      "Processed and saved: oxtail_macpatty.png\n",
      "Processed and saved: oxtail_macpatty.png\n",
      "Rate limit reached. Sleeping for 60 seconds...\n",
      "Processed and saved: lil_rowdy_and_big_rowdy.png\n"
     ]
    }
   ],
   "source": [
    "import os\n",
    "import shutil\n",
    "import time\n",
    "import re\n",
    "from imagepig import ImagePig\n",
    "\n",
    "# Define the directory for saving processed images\n",
    "# output_dir = \"processed_images_new_run\"\n",
    "\n",
    "# Check if the directory exists and delete all files inside\n",
    "# if os.path.exists(output_dir):\n",
    "#     for file in os.listdir(output_dir):\n",
    "#         file_path = os.path.join(output_dir, file)\n",
    "#         if os.path.isfile(file_path):\n",
    "#             os.remove(file_path)\n",
    "#         elif os.path.isdir(file_path):\n",
    "#             shutil.rmtree(file_path)  # If there are subdirectories, delete them\n",
    "\n",
    "# Create the directory if it doesn't exist\n",
    "os.makedirs(output_dir, exist_ok=True)\n",
    "\n",
    "# Get PIG API key\n",
    "pig_api_key = os.getenv(\"PIG_API_KEY\")\n",
    "\n",
    "# Initialize ImagePig API\n",
    "imagepig = ImagePig(pig_api_key)\n",
    "\n",
    "# Function to sanitize filenames\n",
    "def sanitize_filename(name):\n",
    "    \"\"\"Sanitize sandwich name to create a valid filename.\"\"\"\n",
    "    name = re.sub(r'[^\\w\\s-]', '', name)  # Remove special characters\n",
    "    name = name.replace(\" \", \"_\")  # Replace spaces with underscores\n",
    "    return name.lower()  # Convert to lowercase for consistency\n",
    "\n",
    "# Loop through each image URL in the 'image' column and process it\n",
    "image_paths = []  # List to store paths of the processed images\n",
    "for idx, (img_url, sandwich_name) in enumerate(zip(merged_df['image_final'], merged_df['sandwich'])):\n",
    "    try:\n",
    "        # Process the image using ImagePig\n",
    "        result = imagepig.cutout(img_url)\n",
    "        \n",
    "        # Define the output filename using the sanitized sandwich name\n",
    "        sanitized_name = sanitize_filename(sandwich_name)\n",
    "        output_filename = f\"{sanitized_name}.png\"\n",
    "        output_path = os.path.join(output_dir, output_filename)\n",
    "        \n",
    "        # Save the result to a file\n",
    "        result.save(output_path)\n",
    "        \n",
    "        print(f\"Processed and saved: {output_filename}\")\n",
    "        \n",
    "        # Store the output path in the list\n",
    "        image_paths.append(output_path)\n",
    "\n",
    "        # If we've processed two images, sleep for a minute to respect the rate limit\n",
    "        if (idx + 1) % 2 == 0:\n",
    "            print(\"Rate limit reached. Sleeping for 60 seconds...\")\n",
    "            time.sleep(60)  # Sleep for 60 seconds (1 minute)\n",
    "            \n",
    "    except Exception as e:\n",
    "        print(f\"Failed to process image at {img_url}: {e}\")\n",
    "        image_paths.append(None)  # In case of failure, append None\n",
    "\n",
    "# Add the image paths back to the DataFrame in the 'images_no_bg' column\n",
    "merged_df['images_no_bg'] = image_paths\n"
   ]
  }
 ],
 "metadata": {
  "kernelspec": {
   "display_name": "myenv",
   "language": "python",
   "name": "python3"
  },
  "language_info": {
   "codemirror_mode": {
    "name": "ipython",
    "version": 3
   },
   "file_extension": ".py",
   "mimetype": "text/x-python",
   "name": "python",
   "nbconvert_exporter": "python",
   "pygments_lexer": "ipython3",
   "version": "3.10.16"
  }
 },
 "nbformat": 4,
 "nbformat_minor": 0
}
